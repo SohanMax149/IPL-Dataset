{
 "cells": [
  {
   "cell_type": "code",
   "execution_count": 1,
   "id": "83ed294c",
   "metadata": {},
   "outputs": [],
   "source": [
    "# importing the required libraries"
   ]
  },
  {
   "cell_type": "code",
   "execution_count": 2,
   "id": "7120a727",
   "metadata": {},
   "outputs": [],
   "source": [
    "import pandas as pd\n",
    "import numpy as np\n",
    "import matplotlib.pyplot as plt\n",
    "import seaborn as sns\n",
    "import sqlite3 as sql\n",
    "from matplotlib import rcParams"
   ]
  },
  {
   "cell_type": "code",
   "execution_count": 3,
   "id": "7685b88f",
   "metadata": {},
   "outputs": [],
   "source": [
    "connection = sql.connect(\"deliveries.db\")\n",
    "connection1 = sql.connect(\"matches.db\")"
   ]
  },
  {
   "cell_type": "code",
   "execution_count": 4,
   "id": "5753966b",
   "metadata": {},
   "outputs": [],
   "source": [
    "df_deliveries = pd.read_sql(\"SELECT * FROM Deliveries\",con = connection)"
   ]
  },
  {
   "cell_type": "code",
   "execution_count": 5,
   "id": "cf04bde1",
   "metadata": {},
   "outputs": [],
   "source": [
    "df_matches = pd.read_sql(\"SELECT * FROM Matches\",con = connection1)"
   ]
  },
  {
   "cell_type": "code",
   "execution_count": 6,
   "id": "f3f70691",
   "metadata": {},
   "outputs": [
    {
     "data": {
      "text/html": [
       "<div>\n",
       "<style scoped>\n",
       "    .dataframe tbody tr th:only-of-type {\n",
       "        vertical-align: middle;\n",
       "    }\n",
       "\n",
       "    .dataframe tbody tr th {\n",
       "        vertical-align: top;\n",
       "    }\n",
       "\n",
       "    .dataframe thead th {\n",
       "        text-align: right;\n",
       "    }\n",
       "</style>\n",
       "<table border=\"1\" class=\"dataframe\">\n",
       "  <thead>\n",
       "    <tr style=\"text-align: right;\">\n",
       "      <th></th>\n",
       "      <th>match_id</th>\n",
       "      <th>inning</th>\n",
       "      <th>batting_team</th>\n",
       "      <th>bowling_team</th>\n",
       "      <th>over</th>\n",
       "      <th>ball</th>\n",
       "      <th>batsman</th>\n",
       "      <th>non_striker</th>\n",
       "      <th>bowler</th>\n",
       "      <th>is_super_over</th>\n",
       "      <th>...</th>\n",
       "      <th>bye_runs</th>\n",
       "      <th>legbye_runs</th>\n",
       "      <th>noball_runs</th>\n",
       "      <th>penalty_runs</th>\n",
       "      <th>batsman_runs</th>\n",
       "      <th>extra_runs</th>\n",
       "      <th>total_runs</th>\n",
       "      <th>player_dismissed</th>\n",
       "      <th>dismissal_kind</th>\n",
       "      <th>fielder</th>\n",
       "    </tr>\n",
       "  </thead>\n",
       "  <tbody>\n",
       "    <tr>\n",
       "      <th>0</th>\n",
       "      <td>1</td>\n",
       "      <td>1</td>\n",
       "      <td>Sunrisers Hyderabad</td>\n",
       "      <td>Royal Challengers Bangalore</td>\n",
       "      <td>1</td>\n",
       "      <td>1</td>\n",
       "      <td>DA Warner</td>\n",
       "      <td>S Dhawan</td>\n",
       "      <td>TS Mills</td>\n",
       "      <td>0</td>\n",
       "      <td>...</td>\n",
       "      <td>0</td>\n",
       "      <td>0</td>\n",
       "      <td>0</td>\n",
       "      <td>0</td>\n",
       "      <td>0</td>\n",
       "      <td>0</td>\n",
       "      <td>0</td>\n",
       "      <td>not out</td>\n",
       "      <td>not out</td>\n",
       "      <td>na\\n</td>\n",
       "    </tr>\n",
       "    <tr>\n",
       "      <th>1</th>\n",
       "      <td>1</td>\n",
       "      <td>1</td>\n",
       "      <td>Sunrisers Hyderabad</td>\n",
       "      <td>Royal Challengers Bangalore</td>\n",
       "      <td>1</td>\n",
       "      <td>1</td>\n",
       "      <td>DA Warner</td>\n",
       "      <td>S Dhawan</td>\n",
       "      <td>TS Mills</td>\n",
       "      <td>0</td>\n",
       "      <td>...</td>\n",
       "      <td>0</td>\n",
       "      <td>0</td>\n",
       "      <td>0</td>\n",
       "      <td>0</td>\n",
       "      <td>0</td>\n",
       "      <td>0</td>\n",
       "      <td>0</td>\n",
       "      <td>not out</td>\n",
       "      <td>not out</td>\n",
       "      <td>na\\n</td>\n",
       "    </tr>\n",
       "    <tr>\n",
       "      <th>2</th>\n",
       "      <td>1</td>\n",
       "      <td>1</td>\n",
       "      <td>Sunrisers Hyderabad</td>\n",
       "      <td>Royal Challengers Bangalore</td>\n",
       "      <td>1</td>\n",
       "      <td>2</td>\n",
       "      <td>DA Warner</td>\n",
       "      <td>S Dhawan</td>\n",
       "      <td>TS Mills</td>\n",
       "      <td>0</td>\n",
       "      <td>...</td>\n",
       "      <td>0</td>\n",
       "      <td>0</td>\n",
       "      <td>0</td>\n",
       "      <td>0</td>\n",
       "      <td>0</td>\n",
       "      <td>0</td>\n",
       "      <td>0</td>\n",
       "      <td>not out</td>\n",
       "      <td>not out</td>\n",
       "      <td>na\\n</td>\n",
       "    </tr>\n",
       "    <tr>\n",
       "      <th>3</th>\n",
       "      <td>1</td>\n",
       "      <td>1</td>\n",
       "      <td>Sunrisers Hyderabad</td>\n",
       "      <td>Royal Challengers Bangalore</td>\n",
       "      <td>1</td>\n",
       "      <td>3</td>\n",
       "      <td>DA Warner</td>\n",
       "      <td>S Dhawan</td>\n",
       "      <td>TS Mills</td>\n",
       "      <td>0</td>\n",
       "      <td>...</td>\n",
       "      <td>0</td>\n",
       "      <td>0</td>\n",
       "      <td>0</td>\n",
       "      <td>0</td>\n",
       "      <td>4</td>\n",
       "      <td>0</td>\n",
       "      <td>4</td>\n",
       "      <td>not out</td>\n",
       "      <td>not out</td>\n",
       "      <td>na\\n</td>\n",
       "    </tr>\n",
       "    <tr>\n",
       "      <th>4</th>\n",
       "      <td>1</td>\n",
       "      <td>1</td>\n",
       "      <td>Sunrisers Hyderabad</td>\n",
       "      <td>Royal Challengers Bangalore</td>\n",
       "      <td>1</td>\n",
       "      <td>4</td>\n",
       "      <td>DA Warner</td>\n",
       "      <td>S Dhawan</td>\n",
       "      <td>TS Mills</td>\n",
       "      <td>0</td>\n",
       "      <td>...</td>\n",
       "      <td>0</td>\n",
       "      <td>0</td>\n",
       "      <td>0</td>\n",
       "      <td>0</td>\n",
       "      <td>0</td>\n",
       "      <td>0</td>\n",
       "      <td>0</td>\n",
       "      <td>not out</td>\n",
       "      <td>not out</td>\n",
       "      <td>na\\n</td>\n",
       "    </tr>\n",
       "  </tbody>\n",
       "</table>\n",
       "<p>5 rows × 21 columns</p>\n",
       "</div>"
      ],
      "text/plain": [
       "   match_id  inning         batting_team                 bowling_team  over  \\\n",
       "0         1       1  Sunrisers Hyderabad  Royal Challengers Bangalore     1   \n",
       "1         1       1  Sunrisers Hyderabad  Royal Challengers Bangalore     1   \n",
       "2         1       1  Sunrisers Hyderabad  Royal Challengers Bangalore     1   \n",
       "3         1       1  Sunrisers Hyderabad  Royal Challengers Bangalore     1   \n",
       "4         1       1  Sunrisers Hyderabad  Royal Challengers Bangalore     1   \n",
       "\n",
       "   ball    batsman non_striker    bowler  is_super_over  ...  bye_runs  \\\n",
       "0     1  DA Warner    S Dhawan  TS Mills              0  ...         0   \n",
       "1     1  DA Warner    S Dhawan  TS Mills              0  ...         0   \n",
       "2     2  DA Warner    S Dhawan  TS Mills              0  ...         0   \n",
       "3     3  DA Warner    S Dhawan  TS Mills              0  ...         0   \n",
       "4     4  DA Warner    S Dhawan  TS Mills              0  ...         0   \n",
       "\n",
       "   legbye_runs  noball_runs  penalty_runs  batsman_runs  extra_runs  \\\n",
       "0            0            0             0             0           0   \n",
       "1            0            0             0             0           0   \n",
       "2            0            0             0             0           0   \n",
       "3            0            0             0             4           0   \n",
       "4            0            0             0             0           0   \n",
       "\n",
       "   total_runs  player_dismissed dismissal_kind fielder  \n",
       "0           0           not out        not out    na\\n  \n",
       "1           0           not out        not out    na\\n  \n",
       "2           0           not out        not out    na\\n  \n",
       "3           4           not out        not out    na\\n  \n",
       "4           0           not out        not out    na\\n  \n",
       "\n",
       "[5 rows x 21 columns]"
      ]
     },
     "execution_count": 6,
     "metadata": {},
     "output_type": "execute_result"
    }
   ],
   "source": [
    "df_deliveries.head()"
   ]
  },
  {
   "cell_type": "code",
   "execution_count": 7,
   "id": "2561ecec",
   "metadata": {},
   "outputs": [
    {
     "data": {
      "text/html": [
       "<div>\n",
       "<style scoped>\n",
       "    .dataframe tbody tr th:only-of-type {\n",
       "        vertical-align: middle;\n",
       "    }\n",
       "\n",
       "    .dataframe tbody tr th {\n",
       "        vertical-align: top;\n",
       "    }\n",
       "\n",
       "    .dataframe thead th {\n",
       "        text-align: right;\n",
       "    }\n",
       "</style>\n",
       "<table border=\"1\" class=\"dataframe\">\n",
       "  <thead>\n",
       "    <tr style=\"text-align: right;\">\n",
       "      <th></th>\n",
       "      <th>id</th>\n",
       "      <th>season</th>\n",
       "      <th>city</th>\n",
       "      <th>date</th>\n",
       "      <th>team1</th>\n",
       "      <th>team2</th>\n",
       "      <th>toss_winner</th>\n",
       "      <th>toss_decision</th>\n",
       "      <th>result</th>\n",
       "      <th>dl_applied</th>\n",
       "      <th>winner</th>\n",
       "      <th>win_by_runs</th>\n",
       "      <th>win_by_wickets</th>\n",
       "      <th>player_of_match</th>\n",
       "      <th>venue</th>\n",
       "      <th>umpire1</th>\n",
       "      <th>umpire2</th>\n",
       "    </tr>\n",
       "  </thead>\n",
       "  <tbody>\n",
       "    <tr>\n",
       "      <th>0</th>\n",
       "      <td>1</td>\n",
       "      <td>2017</td>\n",
       "      <td>Hyderabad</td>\n",
       "      <td>2017-04-05</td>\n",
       "      <td>Sunrisers Hyderabad</td>\n",
       "      <td>Royal Challengers Bangalore</td>\n",
       "      <td>Royal Challengers Bangalore</td>\n",
       "      <td>field</td>\n",
       "      <td>normal</td>\n",
       "      <td>0</td>\n",
       "      <td>Sunrisers Hyderabad</td>\n",
       "      <td>35</td>\n",
       "      <td>0</td>\n",
       "      <td>Yuvraj Singh</td>\n",
       "      <td>Rajiv Gandhi International Stadium Uppal</td>\n",
       "      <td>AY Dandekar</td>\n",
       "      <td>NJ Llong\\n</td>\n",
       "    </tr>\n",
       "    <tr>\n",
       "      <th>1</th>\n",
       "      <td>2</td>\n",
       "      <td>2017</td>\n",
       "      <td>Pune</td>\n",
       "      <td>2017-04-06</td>\n",
       "      <td>Mumbai Indians</td>\n",
       "      <td>Rising Pune Supergiants</td>\n",
       "      <td>Rising Pune Supergiants</td>\n",
       "      <td>field</td>\n",
       "      <td>normal</td>\n",
       "      <td>0</td>\n",
       "      <td>Rising Pune Supergiants</td>\n",
       "      <td>0</td>\n",
       "      <td>7</td>\n",
       "      <td>SPD Smith</td>\n",
       "      <td>Maharashtra Cricket Association Stadium</td>\n",
       "      <td>A Nand Kishore</td>\n",
       "      <td>S Ravi\\n</td>\n",
       "    </tr>\n",
       "    <tr>\n",
       "      <th>2</th>\n",
       "      <td>3</td>\n",
       "      <td>2017</td>\n",
       "      <td>Rajkot</td>\n",
       "      <td>2017-04-07</td>\n",
       "      <td>Gujarat Lions</td>\n",
       "      <td>Kolkata Knight Riders</td>\n",
       "      <td>Kolkata Knight Riders</td>\n",
       "      <td>field</td>\n",
       "      <td>normal</td>\n",
       "      <td>0</td>\n",
       "      <td>Kolkata Knight Riders</td>\n",
       "      <td>0</td>\n",
       "      <td>10</td>\n",
       "      <td>CA Lynn</td>\n",
       "      <td>Saurashtra Cricket Association Stadium</td>\n",
       "      <td>Nitin Menon</td>\n",
       "      <td>CK Nandan\\n</td>\n",
       "    </tr>\n",
       "    <tr>\n",
       "      <th>3</th>\n",
       "      <td>4</td>\n",
       "      <td>2017</td>\n",
       "      <td>Indore</td>\n",
       "      <td>2017-04-08</td>\n",
       "      <td>Rising Pune Supergiants</td>\n",
       "      <td>Kings XI Punjab</td>\n",
       "      <td>Kings XI Punjab</td>\n",
       "      <td>field</td>\n",
       "      <td>normal</td>\n",
       "      <td>0</td>\n",
       "      <td>Kings XI Punjab</td>\n",
       "      <td>0</td>\n",
       "      <td>6</td>\n",
       "      <td>GJ Maxwell</td>\n",
       "      <td>Holkar Cricket Stadium</td>\n",
       "      <td>AK Chaudhary</td>\n",
       "      <td>C Shamshuddin\\n</td>\n",
       "    </tr>\n",
       "    <tr>\n",
       "      <th>4</th>\n",
       "      <td>6</td>\n",
       "      <td>2017</td>\n",
       "      <td>Hyderabad</td>\n",
       "      <td>2017-04-09</td>\n",
       "      <td>Gujarat Lions</td>\n",
       "      <td>Sunrisers Hyderabad</td>\n",
       "      <td>Sunrisers Hyderabad</td>\n",
       "      <td>field</td>\n",
       "      <td>normal</td>\n",
       "      <td>0</td>\n",
       "      <td>Sunrisers Hyderabad</td>\n",
       "      <td>0</td>\n",
       "      <td>9</td>\n",
       "      <td>Rashid Khan</td>\n",
       "      <td>Rajiv Gandhi International Stadium Uppal</td>\n",
       "      <td>A Deshmukh</td>\n",
       "      <td>NJ Llong\\n</td>\n",
       "    </tr>\n",
       "  </tbody>\n",
       "</table>\n",
       "</div>"
      ],
      "text/plain": [
       "   id  season       city        date                    team1  \\\n",
       "0   1    2017  Hyderabad  2017-04-05      Sunrisers Hyderabad   \n",
       "1   2    2017       Pune  2017-04-06           Mumbai Indians   \n",
       "2   3    2017     Rajkot  2017-04-07            Gujarat Lions   \n",
       "3   4    2017     Indore  2017-04-08  Rising Pune Supergiants   \n",
       "4   6    2017  Hyderabad  2017-04-09            Gujarat Lions   \n",
       "\n",
       "                         team2                  toss_winner toss_decision  \\\n",
       "0  Royal Challengers Bangalore  Royal Challengers Bangalore         field   \n",
       "1      Rising Pune Supergiants      Rising Pune Supergiants         field   \n",
       "2        Kolkata Knight Riders        Kolkata Knight Riders         field   \n",
       "3              Kings XI Punjab              Kings XI Punjab         field   \n",
       "4          Sunrisers Hyderabad          Sunrisers Hyderabad         field   \n",
       "\n",
       "   result  dl_applied                   winner  win_by_runs  win_by_wickets  \\\n",
       "0  normal           0      Sunrisers Hyderabad           35               0   \n",
       "1  normal           0  Rising Pune Supergiants            0               7   \n",
       "2  normal           0    Kolkata Knight Riders            0              10   \n",
       "3  normal           0          Kings XI Punjab            0               6   \n",
       "4  normal           0      Sunrisers Hyderabad            0               9   \n",
       "\n",
       "  player_of_match                                     venue         umpire1  \\\n",
       "0    Yuvraj Singh  Rajiv Gandhi International Stadium Uppal     AY Dandekar   \n",
       "1       SPD Smith   Maharashtra Cricket Association Stadium  A Nand Kishore   \n",
       "2         CA Lynn    Saurashtra Cricket Association Stadium     Nitin Menon   \n",
       "3      GJ Maxwell                    Holkar Cricket Stadium    AK Chaudhary   \n",
       "4     Rashid Khan  Rajiv Gandhi International Stadium Uppal      A Deshmukh   \n",
       "\n",
       "           umpire2  \n",
       "0       NJ Llong\\n  \n",
       "1         S Ravi\\n  \n",
       "2      CK Nandan\\n  \n",
       "3  C Shamshuddin\\n  \n",
       "4       NJ Llong\\n  "
      ]
     },
     "execution_count": 7,
     "metadata": {},
     "output_type": "execute_result"
    }
   ],
   "source": [
    "df_matches.head()"
   ]
  },
  {
   "cell_type": "code",
   "execution_count": 8,
   "id": "58b8c661",
   "metadata": {},
   "outputs": [],
   "source": [
    "# loading the data file"
   ]
  },
  {
   "cell_type": "code",
   "execution_count": 9,
   "id": "5b4cb22d",
   "metadata": {},
   "outputs": [],
   "source": [
    "x_deliveries = pd.read_csv(r'C:\\Users\\Public\\Headstrait\\deliveries.csv')\n",
    "x_matches = pd.read_csv(r'C:\\Users\\Public\\Headstrait\\matches.csv')"
   ]
  },
  {
   "cell_type": "code",
   "execution_count": 10,
   "id": "169c8a74",
   "metadata": {},
   "outputs": [
    {
     "data": {
      "text/html": [
       "<div>\n",
       "<style scoped>\n",
       "    .dataframe tbody tr th:only-of-type {\n",
       "        vertical-align: middle;\n",
       "    }\n",
       "\n",
       "    .dataframe tbody tr th {\n",
       "        vertical-align: top;\n",
       "    }\n",
       "\n",
       "    .dataframe thead th {\n",
       "        text-align: right;\n",
       "    }\n",
       "</style>\n",
       "<table border=\"1\" class=\"dataframe\">\n",
       "  <thead>\n",
       "    <tr style=\"text-align: right;\">\n",
       "      <th></th>\n",
       "      <th>match_id</th>\n",
       "      <th>inning</th>\n",
       "      <th>batting_team</th>\n",
       "      <th>bowling_team</th>\n",
       "      <th>over</th>\n",
       "      <th>ball</th>\n",
       "      <th>batsman</th>\n",
       "      <th>non_striker</th>\n",
       "      <th>bowler</th>\n",
       "      <th>is_super_over</th>\n",
       "      <th>...</th>\n",
       "      <th>bye_runs</th>\n",
       "      <th>legbye_runs</th>\n",
       "      <th>noball_runs</th>\n",
       "      <th>penalty_runs</th>\n",
       "      <th>batsman_runs</th>\n",
       "      <th>extra_runs</th>\n",
       "      <th>total_runs</th>\n",
       "      <th>player_dismissed</th>\n",
       "      <th>dismissal_kind</th>\n",
       "      <th>fielder</th>\n",
       "    </tr>\n",
       "  </thead>\n",
       "  <tbody>\n",
       "    <tr>\n",
       "      <th>0</th>\n",
       "      <td>1</td>\n",
       "      <td>1</td>\n",
       "      <td>Sunrisers Hyderabad</td>\n",
       "      <td>Royal Challengers Bangalore</td>\n",
       "      <td>1</td>\n",
       "      <td>1</td>\n",
       "      <td>DA Warner</td>\n",
       "      <td>S Dhawan</td>\n",
       "      <td>TS Mills</td>\n",
       "      <td>0</td>\n",
       "      <td>...</td>\n",
       "      <td>0</td>\n",
       "      <td>0</td>\n",
       "      <td>0</td>\n",
       "      <td>0</td>\n",
       "      <td>0</td>\n",
       "      <td>0</td>\n",
       "      <td>0</td>\n",
       "      <td>NaN</td>\n",
       "      <td>NaN</td>\n",
       "      <td>NaN</td>\n",
       "    </tr>\n",
       "    <tr>\n",
       "      <th>1</th>\n",
       "      <td>1</td>\n",
       "      <td>1</td>\n",
       "      <td>Sunrisers Hyderabad</td>\n",
       "      <td>Royal Challengers Bangalore</td>\n",
       "      <td>1</td>\n",
       "      <td>2</td>\n",
       "      <td>DA Warner</td>\n",
       "      <td>S Dhawan</td>\n",
       "      <td>TS Mills</td>\n",
       "      <td>0</td>\n",
       "      <td>...</td>\n",
       "      <td>0</td>\n",
       "      <td>0</td>\n",
       "      <td>0</td>\n",
       "      <td>0</td>\n",
       "      <td>0</td>\n",
       "      <td>0</td>\n",
       "      <td>0</td>\n",
       "      <td>NaN</td>\n",
       "      <td>NaN</td>\n",
       "      <td>NaN</td>\n",
       "    </tr>\n",
       "    <tr>\n",
       "      <th>2</th>\n",
       "      <td>1</td>\n",
       "      <td>1</td>\n",
       "      <td>Sunrisers Hyderabad</td>\n",
       "      <td>Royal Challengers Bangalore</td>\n",
       "      <td>1</td>\n",
       "      <td>3</td>\n",
       "      <td>DA Warner</td>\n",
       "      <td>S Dhawan</td>\n",
       "      <td>TS Mills</td>\n",
       "      <td>0</td>\n",
       "      <td>...</td>\n",
       "      <td>0</td>\n",
       "      <td>0</td>\n",
       "      <td>0</td>\n",
       "      <td>0</td>\n",
       "      <td>4</td>\n",
       "      <td>0</td>\n",
       "      <td>4</td>\n",
       "      <td>NaN</td>\n",
       "      <td>NaN</td>\n",
       "      <td>NaN</td>\n",
       "    </tr>\n",
       "    <tr>\n",
       "      <th>3</th>\n",
       "      <td>1</td>\n",
       "      <td>1</td>\n",
       "      <td>Sunrisers Hyderabad</td>\n",
       "      <td>Royal Challengers Bangalore</td>\n",
       "      <td>1</td>\n",
       "      <td>4</td>\n",
       "      <td>DA Warner</td>\n",
       "      <td>S Dhawan</td>\n",
       "      <td>TS Mills</td>\n",
       "      <td>0</td>\n",
       "      <td>...</td>\n",
       "      <td>0</td>\n",
       "      <td>0</td>\n",
       "      <td>0</td>\n",
       "      <td>0</td>\n",
       "      <td>0</td>\n",
       "      <td>0</td>\n",
       "      <td>0</td>\n",
       "      <td>NaN</td>\n",
       "      <td>NaN</td>\n",
       "      <td>NaN</td>\n",
       "    </tr>\n",
       "    <tr>\n",
       "      <th>4</th>\n",
       "      <td>1</td>\n",
       "      <td>1</td>\n",
       "      <td>Sunrisers Hyderabad</td>\n",
       "      <td>Royal Challengers Bangalore</td>\n",
       "      <td>1</td>\n",
       "      <td>5</td>\n",
       "      <td>DA Warner</td>\n",
       "      <td>S Dhawan</td>\n",
       "      <td>TS Mills</td>\n",
       "      <td>0</td>\n",
       "      <td>...</td>\n",
       "      <td>0</td>\n",
       "      <td>0</td>\n",
       "      <td>0</td>\n",
       "      <td>0</td>\n",
       "      <td>0</td>\n",
       "      <td>2</td>\n",
       "      <td>2</td>\n",
       "      <td>NaN</td>\n",
       "      <td>NaN</td>\n",
       "      <td>NaN</td>\n",
       "    </tr>\n",
       "  </tbody>\n",
       "</table>\n",
       "<p>5 rows × 21 columns</p>\n",
       "</div>"
      ],
      "text/plain": [
       "   match_id  inning         batting_team                 bowling_team  over  \\\n",
       "0         1       1  Sunrisers Hyderabad  Royal Challengers Bangalore     1   \n",
       "1         1       1  Sunrisers Hyderabad  Royal Challengers Bangalore     1   \n",
       "2         1       1  Sunrisers Hyderabad  Royal Challengers Bangalore     1   \n",
       "3         1       1  Sunrisers Hyderabad  Royal Challengers Bangalore     1   \n",
       "4         1       1  Sunrisers Hyderabad  Royal Challengers Bangalore     1   \n",
       "\n",
       "   ball    batsman non_striker    bowler  is_super_over  ...  bye_runs  \\\n",
       "0     1  DA Warner    S Dhawan  TS Mills              0  ...         0   \n",
       "1     2  DA Warner    S Dhawan  TS Mills              0  ...         0   \n",
       "2     3  DA Warner    S Dhawan  TS Mills              0  ...         0   \n",
       "3     4  DA Warner    S Dhawan  TS Mills              0  ...         0   \n",
       "4     5  DA Warner    S Dhawan  TS Mills              0  ...         0   \n",
       "\n",
       "   legbye_runs  noball_runs  penalty_runs  batsman_runs  extra_runs  \\\n",
       "0            0            0             0             0           0   \n",
       "1            0            0             0             0           0   \n",
       "2            0            0             0             4           0   \n",
       "3            0            0             0             0           0   \n",
       "4            0            0             0             0           2   \n",
       "\n",
       "   total_runs  player_dismissed dismissal_kind fielder  \n",
       "0           0               NaN            NaN     NaN  \n",
       "1           0               NaN            NaN     NaN  \n",
       "2           4               NaN            NaN     NaN  \n",
       "3           0               NaN            NaN     NaN  \n",
       "4           2               NaN            NaN     NaN  \n",
       "\n",
       "[5 rows x 21 columns]"
      ]
     },
     "execution_count": 10,
     "metadata": {},
     "output_type": "execute_result"
    }
   ],
   "source": [
    "x_deliveries.head()"
   ]
  },
  {
   "cell_type": "code",
   "execution_count": 11,
   "id": "4a0c979a",
   "metadata": {},
   "outputs": [
    {
     "data": {
      "text/html": [
       "<div>\n",
       "<style scoped>\n",
       "    .dataframe tbody tr th:only-of-type {\n",
       "        vertical-align: middle;\n",
       "    }\n",
       "\n",
       "    .dataframe tbody tr th {\n",
       "        vertical-align: top;\n",
       "    }\n",
       "\n",
       "    .dataframe thead th {\n",
       "        text-align: right;\n",
       "    }\n",
       "</style>\n",
       "<table border=\"1\" class=\"dataframe\">\n",
       "  <thead>\n",
       "    <tr style=\"text-align: right;\">\n",
       "      <th></th>\n",
       "      <th>id</th>\n",
       "      <th>season</th>\n",
       "      <th>city</th>\n",
       "      <th>date</th>\n",
       "      <th>team1</th>\n",
       "      <th>team2</th>\n",
       "      <th>toss_winner</th>\n",
       "      <th>toss_decision</th>\n",
       "      <th>result</th>\n",
       "      <th>dl_applied</th>\n",
       "      <th>winner</th>\n",
       "      <th>win_by_runs</th>\n",
       "      <th>win_by_wickets</th>\n",
       "      <th>player_of_match</th>\n",
       "      <th>venue</th>\n",
       "      <th>umpire1</th>\n",
       "      <th>umpire2</th>\n",
       "      <th>umpire3</th>\n",
       "    </tr>\n",
       "  </thead>\n",
       "  <tbody>\n",
       "    <tr>\n",
       "      <th>0</th>\n",
       "      <td>1</td>\n",
       "      <td>2017</td>\n",
       "      <td>Hyderabad</td>\n",
       "      <td>2017-04-05</td>\n",
       "      <td>Sunrisers Hyderabad</td>\n",
       "      <td>Royal Challengers Bangalore</td>\n",
       "      <td>Royal Challengers Bangalore</td>\n",
       "      <td>field</td>\n",
       "      <td>normal</td>\n",
       "      <td>0</td>\n",
       "      <td>Sunrisers Hyderabad</td>\n",
       "      <td>35</td>\n",
       "      <td>0</td>\n",
       "      <td>Yuvraj Singh</td>\n",
       "      <td>Rajiv Gandhi International Stadium, Uppal</td>\n",
       "      <td>AY Dandekar</td>\n",
       "      <td>NJ Llong</td>\n",
       "      <td>NaN</td>\n",
       "    </tr>\n",
       "    <tr>\n",
       "      <th>1</th>\n",
       "      <td>2</td>\n",
       "      <td>2017</td>\n",
       "      <td>Pune</td>\n",
       "      <td>2017-04-06</td>\n",
       "      <td>Mumbai Indians</td>\n",
       "      <td>Rising Pune Supergiant</td>\n",
       "      <td>Rising Pune Supergiant</td>\n",
       "      <td>field</td>\n",
       "      <td>normal</td>\n",
       "      <td>0</td>\n",
       "      <td>Rising Pune Supergiant</td>\n",
       "      <td>0</td>\n",
       "      <td>7</td>\n",
       "      <td>SPD Smith</td>\n",
       "      <td>Maharashtra Cricket Association Stadium</td>\n",
       "      <td>A Nand Kishore</td>\n",
       "      <td>S Ravi</td>\n",
       "      <td>NaN</td>\n",
       "    </tr>\n",
       "    <tr>\n",
       "      <th>2</th>\n",
       "      <td>3</td>\n",
       "      <td>2017</td>\n",
       "      <td>Rajkot</td>\n",
       "      <td>2017-04-07</td>\n",
       "      <td>Gujarat Lions</td>\n",
       "      <td>Kolkata Knight Riders</td>\n",
       "      <td>Kolkata Knight Riders</td>\n",
       "      <td>field</td>\n",
       "      <td>normal</td>\n",
       "      <td>0</td>\n",
       "      <td>Kolkata Knight Riders</td>\n",
       "      <td>0</td>\n",
       "      <td>10</td>\n",
       "      <td>CA Lynn</td>\n",
       "      <td>Saurashtra Cricket Association Stadium</td>\n",
       "      <td>Nitin Menon</td>\n",
       "      <td>CK Nandan</td>\n",
       "      <td>NaN</td>\n",
       "    </tr>\n",
       "    <tr>\n",
       "      <th>3</th>\n",
       "      <td>4</td>\n",
       "      <td>2017</td>\n",
       "      <td>Indore</td>\n",
       "      <td>2017-04-08</td>\n",
       "      <td>Rising Pune Supergiant</td>\n",
       "      <td>Kings XI Punjab</td>\n",
       "      <td>Kings XI Punjab</td>\n",
       "      <td>field</td>\n",
       "      <td>normal</td>\n",
       "      <td>0</td>\n",
       "      <td>Kings XI Punjab</td>\n",
       "      <td>0</td>\n",
       "      <td>6</td>\n",
       "      <td>GJ Maxwell</td>\n",
       "      <td>Holkar Cricket Stadium</td>\n",
       "      <td>AK Chaudhary</td>\n",
       "      <td>C Shamshuddin</td>\n",
       "      <td>NaN</td>\n",
       "    </tr>\n",
       "    <tr>\n",
       "      <th>4</th>\n",
       "      <td>5</td>\n",
       "      <td>2017</td>\n",
       "      <td>Bangalore</td>\n",
       "      <td>2017-04-08</td>\n",
       "      <td>Royal Challengers Bangalore</td>\n",
       "      <td>Delhi Daredevils</td>\n",
       "      <td>Royal Challengers Bangalore</td>\n",
       "      <td>bat</td>\n",
       "      <td>normal</td>\n",
       "      <td>0</td>\n",
       "      <td>Royal Challengers Bangalore</td>\n",
       "      <td>15</td>\n",
       "      <td>0</td>\n",
       "      <td>KM Jadhav</td>\n",
       "      <td>M Chinnaswamy Stadium</td>\n",
       "      <td>NaN</td>\n",
       "      <td>NaN</td>\n",
       "      <td>NaN</td>\n",
       "    </tr>\n",
       "  </tbody>\n",
       "</table>\n",
       "</div>"
      ],
      "text/plain": [
       "   id  season       city        date                        team1  \\\n",
       "0   1    2017  Hyderabad  2017-04-05          Sunrisers Hyderabad   \n",
       "1   2    2017       Pune  2017-04-06               Mumbai Indians   \n",
       "2   3    2017     Rajkot  2017-04-07                Gujarat Lions   \n",
       "3   4    2017     Indore  2017-04-08       Rising Pune Supergiant   \n",
       "4   5    2017  Bangalore  2017-04-08  Royal Challengers Bangalore   \n",
       "\n",
       "                         team2                  toss_winner toss_decision  \\\n",
       "0  Royal Challengers Bangalore  Royal Challengers Bangalore         field   \n",
       "1       Rising Pune Supergiant       Rising Pune Supergiant         field   \n",
       "2        Kolkata Knight Riders        Kolkata Knight Riders         field   \n",
       "3              Kings XI Punjab              Kings XI Punjab         field   \n",
       "4             Delhi Daredevils  Royal Challengers Bangalore           bat   \n",
       "\n",
       "   result  dl_applied                       winner  win_by_runs  \\\n",
       "0  normal           0          Sunrisers Hyderabad           35   \n",
       "1  normal           0       Rising Pune Supergiant            0   \n",
       "2  normal           0        Kolkata Knight Riders            0   \n",
       "3  normal           0              Kings XI Punjab            0   \n",
       "4  normal           0  Royal Challengers Bangalore           15   \n",
       "\n",
       "   win_by_wickets player_of_match                                      venue  \\\n",
       "0               0    Yuvraj Singh  Rajiv Gandhi International Stadium, Uppal   \n",
       "1               7       SPD Smith    Maharashtra Cricket Association Stadium   \n",
       "2              10         CA Lynn     Saurashtra Cricket Association Stadium   \n",
       "3               6      GJ Maxwell                     Holkar Cricket Stadium   \n",
       "4               0       KM Jadhav                      M Chinnaswamy Stadium   \n",
       "\n",
       "          umpire1        umpire2  umpire3  \n",
       "0     AY Dandekar       NJ Llong      NaN  \n",
       "1  A Nand Kishore         S Ravi      NaN  \n",
       "2     Nitin Menon      CK Nandan      NaN  \n",
       "3    AK Chaudhary  C Shamshuddin      NaN  \n",
       "4             NaN            NaN      NaN  "
      ]
     },
     "execution_count": 11,
     "metadata": {},
     "output_type": "execute_result"
    }
   ],
   "source": [
    "x_matches.head()"
   ]
  },
  {
   "cell_type": "code",
   "execution_count": 12,
   "id": "8597fdf3",
   "metadata": {},
   "outputs": [
    {
     "name": "stdout",
     "output_type": "stream",
     "text": [
      "<class 'pandas.core.frame.DataFrame'>\n",
      "RangeIndex: 150460 entries, 0 to 150459\n",
      "Data columns (total 21 columns):\n",
      " #   Column            Non-Null Count   Dtype \n",
      "---  ------            --------------   ----- \n",
      " 0   match_id          150460 non-null  int64 \n",
      " 1   inning            150460 non-null  int64 \n",
      " 2   batting_team      150460 non-null  object\n",
      " 3   bowling_team      150460 non-null  object\n",
      " 4   over              150460 non-null  int64 \n",
      " 5   ball              150460 non-null  int64 \n",
      " 6   batsman           150460 non-null  object\n",
      " 7   non_striker       150460 non-null  object\n",
      " 8   bowler            150460 non-null  object\n",
      " 9   is_super_over     150460 non-null  int64 \n",
      " 10  wide_runs         150460 non-null  int64 \n",
      " 11  bye_runs          150460 non-null  int64 \n",
      " 12  legbye_runs       150460 non-null  int64 \n",
      " 13  noball_runs       150460 non-null  int64 \n",
      " 14  penalty_runs      150460 non-null  int64 \n",
      " 15  batsman_runs      150460 non-null  int64 \n",
      " 16  extra_runs        150460 non-null  int64 \n",
      " 17  total_runs        150460 non-null  int64 \n",
      " 18  player_dismissed  7438 non-null    object\n",
      " 19  dismissal_kind    7438 non-null    object\n",
      " 20  fielder           5369 non-null    object\n",
      "dtypes: int64(13), object(8)\n",
      "memory usage: 24.1+ MB\n"
     ]
    }
   ],
   "source": [
    "x_deliveries.info()"
   ]
  },
  {
   "cell_type": "code",
   "execution_count": 13,
   "id": "992623ed",
   "metadata": {},
   "outputs": [
    {
     "name": "stdout",
     "output_type": "stream",
     "text": [
      "<class 'pandas.core.frame.DataFrame'>\n",
      "RangeIndex: 636 entries, 0 to 635\n",
      "Data columns (total 18 columns):\n",
      " #   Column           Non-Null Count  Dtype  \n",
      "---  ------           --------------  -----  \n",
      " 0   id               636 non-null    int64  \n",
      " 1   season           636 non-null    int64  \n",
      " 2   city             629 non-null    object \n",
      " 3   date             636 non-null    object \n",
      " 4   team1            636 non-null    object \n",
      " 5   team2            636 non-null    object \n",
      " 6   toss_winner      636 non-null    object \n",
      " 7   toss_decision    636 non-null    object \n",
      " 8   result           636 non-null    object \n",
      " 9   dl_applied       636 non-null    int64  \n",
      " 10  winner           633 non-null    object \n",
      " 11  win_by_runs      636 non-null    int64  \n",
      " 12  win_by_wickets   636 non-null    int64  \n",
      " 13  player_of_match  633 non-null    object \n",
      " 14  venue            636 non-null    object \n",
      " 15  umpire1          635 non-null    object \n",
      " 16  umpire2          635 non-null    object \n",
      " 17  umpire3          0 non-null      float64\n",
      "dtypes: float64(1), int64(5), object(12)\n",
      "memory usage: 89.6+ KB\n"
     ]
    }
   ],
   "source": [
    "x_matches.info()"
   ]
  },
  {
   "cell_type": "code",
   "execution_count": 14,
   "id": "644bbab7",
   "metadata": {},
   "outputs": [
    {
     "data": {
      "text/html": [
       "<div>\n",
       "<style scoped>\n",
       "    .dataframe tbody tr th:only-of-type {\n",
       "        vertical-align: middle;\n",
       "    }\n",
       "\n",
       "    .dataframe tbody tr th {\n",
       "        vertical-align: top;\n",
       "    }\n",
       "\n",
       "    .dataframe thead th {\n",
       "        text-align: right;\n",
       "    }\n",
       "</style>\n",
       "<table border=\"1\" class=\"dataframe\">\n",
       "  <thead>\n",
       "    <tr style=\"text-align: right;\">\n",
       "      <th></th>\n",
       "      <th>match_id</th>\n",
       "      <th>inning</th>\n",
       "      <th>over</th>\n",
       "      <th>ball</th>\n",
       "      <th>is_super_over</th>\n",
       "      <th>wide_runs</th>\n",
       "      <th>bye_runs</th>\n",
       "      <th>legbye_runs</th>\n",
       "      <th>noball_runs</th>\n",
       "      <th>penalty_runs</th>\n",
       "      <th>batsman_runs</th>\n",
       "      <th>extra_runs</th>\n",
       "      <th>total_runs</th>\n",
       "    </tr>\n",
       "  </thead>\n",
       "  <tbody>\n",
       "    <tr>\n",
       "      <th>count</th>\n",
       "      <td>150460.000000</td>\n",
       "      <td>150460.000000</td>\n",
       "      <td>150460.000000</td>\n",
       "      <td>150460.000000</td>\n",
       "      <td>150460.000000</td>\n",
       "      <td>150460.000000</td>\n",
       "      <td>150460.000000</td>\n",
       "      <td>150460.000000</td>\n",
       "      <td>150460.000000</td>\n",
       "      <td>150460.000000</td>\n",
       "      <td>150460.000000</td>\n",
       "      <td>150460.000000</td>\n",
       "      <td>150460.000000</td>\n",
       "    </tr>\n",
       "    <tr>\n",
       "      <th>mean</th>\n",
       "      <td>318.281317</td>\n",
       "      <td>1.482188</td>\n",
       "      <td>10.142649</td>\n",
       "      <td>3.616483</td>\n",
       "      <td>0.000538</td>\n",
       "      <td>0.037498</td>\n",
       "      <td>0.004885</td>\n",
       "      <td>0.022232</td>\n",
       "      <td>0.004340</td>\n",
       "      <td>0.000066</td>\n",
       "      <td>1.222445</td>\n",
       "      <td>0.069022</td>\n",
       "      <td>1.291466</td>\n",
       "    </tr>\n",
       "    <tr>\n",
       "      <th>std</th>\n",
       "      <td>182.955531</td>\n",
       "      <td>0.501768</td>\n",
       "      <td>5.674338</td>\n",
       "      <td>1.807698</td>\n",
       "      <td>0.023196</td>\n",
       "      <td>0.257398</td>\n",
       "      <td>0.114234</td>\n",
       "      <td>0.200104</td>\n",
       "      <td>0.072652</td>\n",
       "      <td>0.018229</td>\n",
       "      <td>1.594509</td>\n",
       "      <td>0.349667</td>\n",
       "      <td>1.583240</td>\n",
       "    </tr>\n",
       "    <tr>\n",
       "      <th>min</th>\n",
       "      <td>1.000000</td>\n",
       "      <td>1.000000</td>\n",
       "      <td>1.000000</td>\n",
       "      <td>1.000000</td>\n",
       "      <td>0.000000</td>\n",
       "      <td>0.000000</td>\n",
       "      <td>0.000000</td>\n",
       "      <td>0.000000</td>\n",
       "      <td>0.000000</td>\n",
       "      <td>0.000000</td>\n",
       "      <td>0.000000</td>\n",
       "      <td>0.000000</td>\n",
       "      <td>0.000000</td>\n",
       "    </tr>\n",
       "    <tr>\n",
       "      <th>25%</th>\n",
       "      <td>161.000000</td>\n",
       "      <td>1.000000</td>\n",
       "      <td>5.000000</td>\n",
       "      <td>2.000000</td>\n",
       "      <td>0.000000</td>\n",
       "      <td>0.000000</td>\n",
       "      <td>0.000000</td>\n",
       "      <td>0.000000</td>\n",
       "      <td>0.000000</td>\n",
       "      <td>0.000000</td>\n",
       "      <td>0.000000</td>\n",
       "      <td>0.000000</td>\n",
       "      <td>0.000000</td>\n",
       "    </tr>\n",
       "    <tr>\n",
       "      <th>50%</th>\n",
       "      <td>319.000000</td>\n",
       "      <td>1.000000</td>\n",
       "      <td>10.000000</td>\n",
       "      <td>4.000000</td>\n",
       "      <td>0.000000</td>\n",
       "      <td>0.000000</td>\n",
       "      <td>0.000000</td>\n",
       "      <td>0.000000</td>\n",
       "      <td>0.000000</td>\n",
       "      <td>0.000000</td>\n",
       "      <td>1.000000</td>\n",
       "      <td>0.000000</td>\n",
       "      <td>1.000000</td>\n",
       "    </tr>\n",
       "    <tr>\n",
       "      <th>75%</th>\n",
       "      <td>476.000000</td>\n",
       "      <td>2.000000</td>\n",
       "      <td>15.000000</td>\n",
       "      <td>5.000000</td>\n",
       "      <td>0.000000</td>\n",
       "      <td>0.000000</td>\n",
       "      <td>0.000000</td>\n",
       "      <td>0.000000</td>\n",
       "      <td>0.000000</td>\n",
       "      <td>0.000000</td>\n",
       "      <td>1.000000</td>\n",
       "      <td>0.000000</td>\n",
       "      <td>1.000000</td>\n",
       "    </tr>\n",
       "    <tr>\n",
       "      <th>max</th>\n",
       "      <td>636.000000</td>\n",
       "      <td>4.000000</td>\n",
       "      <td>20.000000</td>\n",
       "      <td>9.000000</td>\n",
       "      <td>1.000000</td>\n",
       "      <td>5.000000</td>\n",
       "      <td>4.000000</td>\n",
       "      <td>5.000000</td>\n",
       "      <td>5.000000</td>\n",
       "      <td>5.000000</td>\n",
       "      <td>6.000000</td>\n",
       "      <td>7.000000</td>\n",
       "      <td>7.000000</td>\n",
       "    </tr>\n",
       "  </tbody>\n",
       "</table>\n",
       "</div>"
      ],
      "text/plain": [
       "            match_id         inning           over           ball  \\\n",
       "count  150460.000000  150460.000000  150460.000000  150460.000000   \n",
       "mean      318.281317       1.482188      10.142649       3.616483   \n",
       "std       182.955531       0.501768       5.674338       1.807698   \n",
       "min         1.000000       1.000000       1.000000       1.000000   \n",
       "25%       161.000000       1.000000       5.000000       2.000000   \n",
       "50%       319.000000       1.000000      10.000000       4.000000   \n",
       "75%       476.000000       2.000000      15.000000       5.000000   \n",
       "max       636.000000       4.000000      20.000000       9.000000   \n",
       "\n",
       "       is_super_over      wide_runs       bye_runs    legbye_runs  \\\n",
       "count  150460.000000  150460.000000  150460.000000  150460.000000   \n",
       "mean        0.000538       0.037498       0.004885       0.022232   \n",
       "std         0.023196       0.257398       0.114234       0.200104   \n",
       "min         0.000000       0.000000       0.000000       0.000000   \n",
       "25%         0.000000       0.000000       0.000000       0.000000   \n",
       "50%         0.000000       0.000000       0.000000       0.000000   \n",
       "75%         0.000000       0.000000       0.000000       0.000000   \n",
       "max         1.000000       5.000000       4.000000       5.000000   \n",
       "\n",
       "         noball_runs   penalty_runs   batsman_runs     extra_runs  \\\n",
       "count  150460.000000  150460.000000  150460.000000  150460.000000   \n",
       "mean        0.004340       0.000066       1.222445       0.069022   \n",
       "std         0.072652       0.018229       1.594509       0.349667   \n",
       "min         0.000000       0.000000       0.000000       0.000000   \n",
       "25%         0.000000       0.000000       0.000000       0.000000   \n",
       "50%         0.000000       0.000000       1.000000       0.000000   \n",
       "75%         0.000000       0.000000       1.000000       0.000000   \n",
       "max         5.000000       5.000000       6.000000       7.000000   \n",
       "\n",
       "          total_runs  \n",
       "count  150460.000000  \n",
       "mean        1.291466  \n",
       "std         1.583240  \n",
       "min         0.000000  \n",
       "25%         0.000000  \n",
       "50%         1.000000  \n",
       "75%         1.000000  \n",
       "max         7.000000  "
      ]
     },
     "execution_count": 14,
     "metadata": {},
     "output_type": "execute_result"
    }
   ],
   "source": [
    "x_deliveries.describe()"
   ]
  },
  {
   "cell_type": "code",
   "execution_count": 15,
   "id": "8c0062fd",
   "metadata": {},
   "outputs": [
    {
     "data": {
      "text/html": [
       "<div>\n",
       "<style scoped>\n",
       "    .dataframe tbody tr th:only-of-type {\n",
       "        vertical-align: middle;\n",
       "    }\n",
       "\n",
       "    .dataframe tbody tr th {\n",
       "        vertical-align: top;\n",
       "    }\n",
       "\n",
       "    .dataframe thead th {\n",
       "        text-align: right;\n",
       "    }\n",
       "</style>\n",
       "<table border=\"1\" class=\"dataframe\">\n",
       "  <thead>\n",
       "    <tr style=\"text-align: right;\">\n",
       "      <th></th>\n",
       "      <th>id</th>\n",
       "      <th>season</th>\n",
       "      <th>dl_applied</th>\n",
       "      <th>win_by_runs</th>\n",
       "      <th>win_by_wickets</th>\n",
       "      <th>umpire3</th>\n",
       "    </tr>\n",
       "  </thead>\n",
       "  <tbody>\n",
       "    <tr>\n",
       "      <th>count</th>\n",
       "      <td>636.000000</td>\n",
       "      <td>636.000000</td>\n",
       "      <td>636.000000</td>\n",
       "      <td>636.000000</td>\n",
       "      <td>636.000000</td>\n",
       "      <td>0.0</td>\n",
       "    </tr>\n",
       "    <tr>\n",
       "      <th>mean</th>\n",
       "      <td>318.500000</td>\n",
       "      <td>2012.490566</td>\n",
       "      <td>0.025157</td>\n",
       "      <td>13.682390</td>\n",
       "      <td>3.372642</td>\n",
       "      <td>NaN</td>\n",
       "    </tr>\n",
       "    <tr>\n",
       "      <th>std</th>\n",
       "      <td>183.741666</td>\n",
       "      <td>2.773026</td>\n",
       "      <td>0.156726</td>\n",
       "      <td>23.908877</td>\n",
       "      <td>3.420338</td>\n",
       "      <td>NaN</td>\n",
       "    </tr>\n",
       "    <tr>\n",
       "      <th>min</th>\n",
       "      <td>1.000000</td>\n",
       "      <td>2008.000000</td>\n",
       "      <td>0.000000</td>\n",
       "      <td>0.000000</td>\n",
       "      <td>0.000000</td>\n",
       "      <td>NaN</td>\n",
       "    </tr>\n",
       "    <tr>\n",
       "      <th>25%</th>\n",
       "      <td>159.750000</td>\n",
       "      <td>2010.000000</td>\n",
       "      <td>0.000000</td>\n",
       "      <td>0.000000</td>\n",
       "      <td>0.000000</td>\n",
       "      <td>NaN</td>\n",
       "    </tr>\n",
       "    <tr>\n",
       "      <th>50%</th>\n",
       "      <td>318.500000</td>\n",
       "      <td>2012.000000</td>\n",
       "      <td>0.000000</td>\n",
       "      <td>0.000000</td>\n",
       "      <td>4.000000</td>\n",
       "      <td>NaN</td>\n",
       "    </tr>\n",
       "    <tr>\n",
       "      <th>75%</th>\n",
       "      <td>477.250000</td>\n",
       "      <td>2015.000000</td>\n",
       "      <td>0.000000</td>\n",
       "      <td>20.000000</td>\n",
       "      <td>7.000000</td>\n",
       "      <td>NaN</td>\n",
       "    </tr>\n",
       "    <tr>\n",
       "      <th>max</th>\n",
       "      <td>636.000000</td>\n",
       "      <td>2017.000000</td>\n",
       "      <td>1.000000</td>\n",
       "      <td>146.000000</td>\n",
       "      <td>10.000000</td>\n",
       "      <td>NaN</td>\n",
       "    </tr>\n",
       "  </tbody>\n",
       "</table>\n",
       "</div>"
      ],
      "text/plain": [
       "               id       season  dl_applied  win_by_runs  win_by_wickets  \\\n",
       "count  636.000000   636.000000  636.000000   636.000000      636.000000   \n",
       "mean   318.500000  2012.490566    0.025157    13.682390        3.372642   \n",
       "std    183.741666     2.773026    0.156726    23.908877        3.420338   \n",
       "min      1.000000  2008.000000    0.000000     0.000000        0.000000   \n",
       "25%    159.750000  2010.000000    0.000000     0.000000        0.000000   \n",
       "50%    318.500000  2012.000000    0.000000     0.000000        4.000000   \n",
       "75%    477.250000  2015.000000    0.000000    20.000000        7.000000   \n",
       "max    636.000000  2017.000000    1.000000   146.000000       10.000000   \n",
       "\n",
       "       umpire3  \n",
       "count      0.0  \n",
       "mean       NaN  \n",
       "std        NaN  \n",
       "min        NaN  \n",
       "25%        NaN  \n",
       "50%        NaN  \n",
       "75%        NaN  \n",
       "max        NaN  "
      ]
     },
     "execution_count": 15,
     "metadata": {},
     "output_type": "execute_result"
    }
   ],
   "source": [
    "x_matches.describe()"
   ]
  },
  {
   "cell_type": "code",
   "execution_count": 16,
   "id": "c51ac928",
   "metadata": {},
   "outputs": [
    {
     "data": {
      "text/plain": [
       "Index(['match_id', 'inning', 'batting_team', 'bowling_team', 'over', 'ball',\n",
       "       'batsman', 'non_striker', 'bowler', 'is_super_over', 'wide_runs',\n",
       "       'bye_runs', 'legbye_runs', 'noball_runs', 'penalty_runs',\n",
       "       'batsman_runs', 'extra_runs', 'total_runs', 'player_dismissed',\n",
       "       'dismissal_kind', 'fielder'],\n",
       "      dtype='object')"
      ]
     },
     "execution_count": 16,
     "metadata": {},
     "output_type": "execute_result"
    }
   ],
   "source": [
    "x_deliveries.columns"
   ]
  },
  {
   "cell_type": "code",
   "execution_count": 17,
   "id": "7a75383b",
   "metadata": {},
   "outputs": [
    {
     "data": {
      "text/plain": [
       "Index(['id', 'season', 'city', 'date', 'team1', 'team2', 'toss_winner',\n",
       "       'toss_decision', 'result', 'dl_applied', 'winner', 'win_by_runs',\n",
       "       'win_by_wickets', 'player_of_match', 'venue', 'umpire1', 'umpire2',\n",
       "       'umpire3'],\n",
       "      dtype='object')"
      ]
     },
     "execution_count": 17,
     "metadata": {},
     "output_type": "execute_result"
    }
   ],
   "source": [
    "x_matches.columns"
   ]
  },
  {
   "cell_type": "code",
   "execution_count": 18,
   "id": "7c8620a2",
   "metadata": {},
   "outputs": [
    {
     "data": {
      "image/png": "[encoded data removed]",
      "text/plain": [
       "<Figure size 1080x720 with 1 Axes>"
      ]
     },
     "metadata": {
      "needs_background": "light"
     },
     "output_type": "display_data"
    }
   ],
   "source": [
    "plt.figure(figsize=(15, 10))\n",
    "sns.heatmap(x_deliveries.isnull(), cbar=False)\n",
    "plt.title('Heatmap for checking Null Values')\n",
    "plt.show()"
   ]
  },
  {
   "cell_type": "code",
   "execution_count": 19,
   "id": "3d119e57",
   "metadata": {},
   "outputs": [],
   "source": [
    "x_matches.drop(columns=[\"umpire3\"], inplace = True)"
   ]
  },
  {
   "cell_type": "code",
   "execution_count": 20,
   "id": "89585f84",
   "metadata": {},
   "outputs": [
    {
     "data": {
      "text/html": [
       "<div>\n",
       "<style scoped>\n",
       "    .dataframe tbody tr th:only-of-type {\n",
       "        vertical-align: middle;\n",
       "    }\n",
       "\n",
       "    .dataframe tbody tr th {\n",
       "        vertical-align: top;\n",
       "    }\n",
       "\n",
       "    .dataframe thead th {\n",
       "        text-align: right;\n",
       "    }\n",
       "</style>\n",
       "<table border=\"1\" class=\"dataframe\">\n",
       "  <thead>\n",
       "    <tr style=\"text-align: right;\">\n",
       "      <th></th>\n",
       "      <th>id</th>\n",
       "      <th>season</th>\n",
       "      <th>city</th>\n",
       "      <th>date</th>\n",
       "      <th>team1</th>\n",
       "      <th>team2</th>\n",
       "      <th>toss_winner</th>\n",
       "      <th>toss_decision</th>\n",
       "      <th>result</th>\n",
       "      <th>dl_applied</th>\n",
       "      <th>winner</th>\n",
       "      <th>win_by_runs</th>\n",
       "      <th>win_by_wickets</th>\n",
       "      <th>player_of_match</th>\n",
       "      <th>venue</th>\n",
       "      <th>umpire1</th>\n",
       "      <th>umpire2</th>\n",
       "    </tr>\n",
       "  </thead>\n",
       "  <tbody>\n",
       "    <tr>\n",
       "      <th>4</th>\n",
       "      <td>5</td>\n",
       "      <td>2017</td>\n",
       "      <td>Bangalore</td>\n",
       "      <td>2017-04-08</td>\n",
       "      <td>Royal Challengers Bangalore</td>\n",
       "      <td>Delhi Daredevils</td>\n",
       "      <td>Royal Challengers Bangalore</td>\n",
       "      <td>bat</td>\n",
       "      <td>normal</td>\n",
       "      <td>0</td>\n",
       "      <td>Royal Challengers Bangalore</td>\n",
       "      <td>15</td>\n",
       "      <td>0</td>\n",
       "      <td>KM Jadhav</td>\n",
       "      <td>M Chinnaswamy Stadium</td>\n",
       "      <td>NaN</td>\n",
       "      <td>NaN</td>\n",
       "    </tr>\n",
       "    <tr>\n",
       "      <th>300</th>\n",
       "      <td>301</td>\n",
       "      <td>2011</td>\n",
       "      <td>Delhi</td>\n",
       "      <td>2011-05-21</td>\n",
       "      <td>Delhi Daredevils</td>\n",
       "      <td>Pune Warriors</td>\n",
       "      <td>Delhi Daredevils</td>\n",
       "      <td>bat</td>\n",
       "      <td>no result</td>\n",
       "      <td>0</td>\n",
       "      <td>NaN</td>\n",
       "      <td>0</td>\n",
       "      <td>0</td>\n",
       "      <td>NaN</td>\n",
       "      <td>Feroz Shah Kotla</td>\n",
       "      <td>SS Hazare</td>\n",
       "      <td>RJ Tucker</td>\n",
       "    </tr>\n",
       "    <tr>\n",
       "      <th>461</th>\n",
       "      <td>462</td>\n",
       "      <td>2014</td>\n",
       "      <td>NaN</td>\n",
       "      <td>2014-04-19</td>\n",
       "      <td>Mumbai Indians</td>\n",
       "      <td>Royal Challengers Bangalore</td>\n",
       "      <td>Royal Challengers Bangalore</td>\n",
       "      <td>field</td>\n",
       "      <td>normal</td>\n",
       "      <td>0</td>\n",
       "      <td>Royal Challengers Bangalore</td>\n",
       "      <td>0</td>\n",
       "      <td>7</td>\n",
       "      <td>PA Patel</td>\n",
       "      <td>Dubai International Cricket Stadium</td>\n",
       "      <td>Aleem Dar</td>\n",
       "      <td>AK Chaudhary</td>\n",
       "    </tr>\n",
       "    <tr>\n",
       "      <th>462</th>\n",
       "      <td>463</td>\n",
       "      <td>2014</td>\n",
       "      <td>NaN</td>\n",
       "      <td>2014-04-19</td>\n",
       "      <td>Kolkata Knight Riders</td>\n",
       "      <td>Delhi Daredevils</td>\n",
       "      <td>Kolkata Knight Riders</td>\n",
       "      <td>bat</td>\n",
       "      <td>normal</td>\n",
       "      <td>0</td>\n",
       "      <td>Delhi Daredevils</td>\n",
       "      <td>0</td>\n",
       "      <td>4</td>\n",
       "      <td>JP Duminy</td>\n",
       "      <td>Dubai International Cricket Stadium</td>\n",
       "      <td>Aleem Dar</td>\n",
       "      <td>VA Kulkarni</td>\n",
       "    </tr>\n",
       "    <tr>\n",
       "      <th>466</th>\n",
       "      <td>467</td>\n",
       "      <td>2014</td>\n",
       "      <td>NaN</td>\n",
       "      <td>2014-04-23</td>\n",
       "      <td>Chennai Super Kings</td>\n",
       "      <td>Rajasthan Royals</td>\n",
       "      <td>Rajasthan Royals</td>\n",
       "      <td>field</td>\n",
       "      <td>normal</td>\n",
       "      <td>0</td>\n",
       "      <td>Chennai Super Kings</td>\n",
       "      <td>7</td>\n",
       "      <td>0</td>\n",
       "      <td>RA Jadeja</td>\n",
       "      <td>Dubai International Cricket Stadium</td>\n",
       "      <td>HDPK Dharmasena</td>\n",
       "      <td>RK Illingworth</td>\n",
       "    </tr>\n",
       "    <tr>\n",
       "      <th>468</th>\n",
       "      <td>469</td>\n",
       "      <td>2014</td>\n",
       "      <td>NaN</td>\n",
       "      <td>2014-04-25</td>\n",
       "      <td>Sunrisers Hyderabad</td>\n",
       "      <td>Delhi Daredevils</td>\n",
       "      <td>Sunrisers Hyderabad</td>\n",
       "      <td>bat</td>\n",
       "      <td>normal</td>\n",
       "      <td>0</td>\n",
       "      <td>Sunrisers Hyderabad</td>\n",
       "      <td>4</td>\n",
       "      <td>0</td>\n",
       "      <td>AJ Finch</td>\n",
       "      <td>Dubai International Cricket Stadium</td>\n",
       "      <td>M Erasmus</td>\n",
       "      <td>S Ravi</td>\n",
       "    </tr>\n",
       "    <tr>\n",
       "      <th>469</th>\n",
       "      <td>470</td>\n",
       "      <td>2014</td>\n",
       "      <td>NaN</td>\n",
       "      <td>2014-04-25</td>\n",
       "      <td>Mumbai Indians</td>\n",
       "      <td>Chennai Super Kings</td>\n",
       "      <td>Mumbai Indians</td>\n",
       "      <td>bat</td>\n",
       "      <td>normal</td>\n",
       "      <td>0</td>\n",
       "      <td>Chennai Super Kings</td>\n",
       "      <td>0</td>\n",
       "      <td>7</td>\n",
       "      <td>MM Sharma</td>\n",
       "      <td>Dubai International Cricket Stadium</td>\n",
       "      <td>BF Bowden</td>\n",
       "      <td>M Erasmus</td>\n",
       "    </tr>\n",
       "    <tr>\n",
       "      <th>474</th>\n",
       "      <td>475</td>\n",
       "      <td>2014</td>\n",
       "      <td>NaN</td>\n",
       "      <td>2014-04-28</td>\n",
       "      <td>Royal Challengers Bangalore</td>\n",
       "      <td>Kings XI Punjab</td>\n",
       "      <td>Kings XI Punjab</td>\n",
       "      <td>field</td>\n",
       "      <td>normal</td>\n",
       "      <td>0</td>\n",
       "      <td>Kings XI Punjab</td>\n",
       "      <td>0</td>\n",
       "      <td>5</td>\n",
       "      <td>Sandeep Sharma</td>\n",
       "      <td>Dubai International Cricket Stadium</td>\n",
       "      <td>BF Bowden</td>\n",
       "      <td>S Ravi</td>\n",
       "    </tr>\n",
       "    <tr>\n",
       "      <th>476</th>\n",
       "      <td>477</td>\n",
       "      <td>2014</td>\n",
       "      <td>NaN</td>\n",
       "      <td>2014-04-30</td>\n",
       "      <td>Sunrisers Hyderabad</td>\n",
       "      <td>Mumbai Indians</td>\n",
       "      <td>Mumbai Indians</td>\n",
       "      <td>field</td>\n",
       "      <td>normal</td>\n",
       "      <td>0</td>\n",
       "      <td>Sunrisers Hyderabad</td>\n",
       "      <td>15</td>\n",
       "      <td>0</td>\n",
       "      <td>B Kumar</td>\n",
       "      <td>Dubai International Cricket Stadium</td>\n",
       "      <td>HDPK Dharmasena</td>\n",
       "      <td>M Erasmus</td>\n",
       "    </tr>\n",
       "    <tr>\n",
       "      <th>545</th>\n",
       "      <td>546</td>\n",
       "      <td>2015</td>\n",
       "      <td>Bangalore</td>\n",
       "      <td>2015-04-29</td>\n",
       "      <td>Royal Challengers Bangalore</td>\n",
       "      <td>Rajasthan Royals</td>\n",
       "      <td>Rajasthan Royals</td>\n",
       "      <td>field</td>\n",
       "      <td>no result</td>\n",
       "      <td>0</td>\n",
       "      <td>NaN</td>\n",
       "      <td>0</td>\n",
       "      <td>0</td>\n",
       "      <td>NaN</td>\n",
       "      <td>M Chinnaswamy Stadium</td>\n",
       "      <td>JD Cloete</td>\n",
       "      <td>PG Pathak</td>\n",
       "    </tr>\n",
       "    <tr>\n",
       "      <th>570</th>\n",
       "      <td>571</td>\n",
       "      <td>2015</td>\n",
       "      <td>Bangalore</td>\n",
       "      <td>2015-05-17</td>\n",
       "      <td>Delhi Daredevils</td>\n",
       "      <td>Royal Challengers Bangalore</td>\n",
       "      <td>Royal Challengers Bangalore</td>\n",
       "      <td>field</td>\n",
       "      <td>no result</td>\n",
       "      <td>0</td>\n",
       "      <td>NaN</td>\n",
       "      <td>0</td>\n",
       "      <td>0</td>\n",
       "      <td>NaN</td>\n",
       "      <td>M Chinnaswamy Stadium</td>\n",
       "      <td>HDPK Dharmasena</td>\n",
       "      <td>K Srinivasan</td>\n",
       "    </tr>\n",
       "  </tbody>\n",
       "</table>\n",
       "</div>"
      ],
      "text/plain": [
       "      id  season       city        date                        team1  \\\n",
       "4      5    2017  Bangalore  2017-04-08  Royal Challengers Bangalore   \n",
       "300  301    2011      Delhi  2011-05-21             Delhi Daredevils   \n",
       "461  462    2014        NaN  2014-04-19               Mumbai Indians   \n",
       "462  463    2014        NaN  2014-04-19        Kolkata Knight Riders   \n",
       "466  467    2014        NaN  2014-04-23          Chennai Super Kings   \n",
       "468  469    2014        NaN  2014-04-25          Sunrisers Hyderabad   \n",
       "469  470    2014        NaN  2014-04-25               Mumbai Indians   \n",
       "474  475    2014        NaN  2014-04-28  Royal Challengers Bangalore   \n",
       "476  477    2014        NaN  2014-04-30          Sunrisers Hyderabad   \n",
       "545  546    2015  Bangalore  2015-04-29  Royal Challengers Bangalore   \n",
       "570  571    2015  Bangalore  2015-05-17             Delhi Daredevils   \n",
       "\n",
       "                           team2                  toss_winner toss_decision  \\\n",
       "4               Delhi Daredevils  Royal Challengers Bangalore           bat   \n",
       "300                Pune Warriors             Delhi Daredevils           bat   \n",
       "461  Royal Challengers Bangalore  Royal Challengers Bangalore         field   \n",
       "462             Delhi Daredevils        Kolkata Knight Riders           bat   \n",
       "466             Rajasthan Royals             Rajasthan Royals         field   \n",
       "468             Delhi Daredevils          Sunrisers Hyderabad           bat   \n",
       "469          Chennai Super Kings               Mumbai Indians           bat   \n",
       "474              Kings XI Punjab              Kings XI Punjab         field   \n",
       "476               Mumbai Indians               Mumbai Indians         field   \n",
       "545             Rajasthan Royals             Rajasthan Royals         field   \n",
       "570  Royal Challengers Bangalore  Royal Challengers Bangalore         field   \n",
       "\n",
       "        result  dl_applied                       winner  win_by_runs  \\\n",
       "4       normal           0  Royal Challengers Bangalore           15   \n",
       "300  no result           0                          NaN            0   \n",
       "461     normal           0  Royal Challengers Bangalore            0   \n",
       "462     normal           0             Delhi Daredevils            0   \n",
       "466     normal           0          Chennai Super Kings            7   \n",
       "468     normal           0          Sunrisers Hyderabad            4   \n",
       "469     normal           0          Chennai Super Kings            0   \n",
       "474     normal           0              Kings XI Punjab            0   \n",
       "476     normal           0          Sunrisers Hyderabad           15   \n",
       "545  no result           0                          NaN            0   \n",
       "570  no result           0                          NaN            0   \n",
       "\n",
       "     win_by_wickets player_of_match                                venue  \\\n",
       "4                 0       KM Jadhav                M Chinnaswamy Stadium   \n",
       "300               0             NaN                     Feroz Shah Kotla   \n",
       "461               7        PA Patel  Dubai International Cricket Stadium   \n",
       "462               4       JP Duminy  Dubai International Cricket Stadium   \n",
       "466               0       RA Jadeja  Dubai International Cricket Stadium   \n",
       "468               0        AJ Finch  Dubai International Cricket Stadium   \n",
       "469               7       MM Sharma  Dubai International Cricket Stadium   \n",
       "474               5  Sandeep Sharma  Dubai International Cricket Stadium   \n",
       "476               0         B Kumar  Dubai International Cricket Stadium   \n",
       "545               0             NaN                M Chinnaswamy Stadium   \n",
       "570               0             NaN                M Chinnaswamy Stadium   \n",
       "\n",
       "             umpire1         umpire2  \n",
       "4                NaN             NaN  \n",
       "300        SS Hazare       RJ Tucker  \n",
       "461        Aleem Dar    AK Chaudhary  \n",
       "462        Aleem Dar     VA Kulkarni  \n",
       "466  HDPK Dharmasena  RK Illingworth  \n",
       "468        M Erasmus          S Ravi  \n",
       "469        BF Bowden       M Erasmus  \n",
       "474        BF Bowden          S Ravi  \n",
       "476  HDPK Dharmasena       M Erasmus  \n",
       "545        JD Cloete       PG Pathak  \n",
       "570  HDPK Dharmasena    K Srinivasan  "
      ]
     },
     "execution_count": 20,
     "metadata": {},
     "output_type": "execute_result"
    }
   ],
   "source": [
    "is_NaN = x_matches.isnull()\n",
    "row_has_NaN = is_NaN.any(axis=1)\n",
    "rows_with_NaN = x_matches[row_has_NaN]\n",
    "rows_with_NaN"
   ]
  },
  {
   "cell_type": "code",
   "execution_count": 21,
   "id": "d4d3a034",
   "metadata": {},
   "outputs": [
    {
     "data": {
      "text/plain": [
       "id                 0\n",
       "season             0\n",
       "city               0\n",
       "date               0\n",
       "team1              0\n",
       "team2              0\n",
       "toss_winner        0\n",
       "toss_decision      0\n",
       "result             0\n",
       "dl_applied         0\n",
       "winner             0\n",
       "win_by_runs        0\n",
       "win_by_wickets     0\n",
       "player_of_match    0\n",
       "venue              0\n",
       "umpire1            0\n",
       "umpire2            0\n",
       "dtype: int64"
      ]
     },
     "execution_count": 21,
     "metadata": {},
     "output_type": "execute_result"
    }
   ],
   "source": [
    "x_matches.dropna(inplace=True)\n",
    "x_matches.isnull().sum()"
   ]
  },
  {
   "cell_type": "code",
   "execution_count": 22,
   "id": "e1ff1282",
   "metadata": {},
   "outputs": [
    {
     "data": {
      "text/plain": [
       "match_id                 0\n",
       "inning                   0\n",
       "batting_team             0\n",
       "bowling_team             0\n",
       "over                     0\n",
       "ball                     0\n",
       "batsman                  0\n",
       "non_striker              0\n",
       "bowler                   0\n",
       "is_super_over            0\n",
       "wide_runs                0\n",
       "bye_runs                 0\n",
       "legbye_runs              0\n",
       "noball_runs              0\n",
       "penalty_runs             0\n",
       "batsman_runs             0\n",
       "extra_runs               0\n",
       "total_runs               0\n",
       "player_dismissed    143022\n",
       "dismissal_kind      143022\n",
       "fielder             145091\n",
       "dtype: int64"
      ]
     },
     "execution_count": 22,
     "metadata": {},
     "output_type": "execute_result"
    }
   ],
   "source": [
    "x_deliveries.isnull().sum()"
   ]
  },
  {
   "cell_type": "code",
   "execution_count": 23,
   "id": "287fb4a0",
   "metadata": {},
   "outputs": [
    {
     "data": {
      "text/plain": [
       "Mumbai Indians                 80\n",
       "Kings XI Punjab                77\n",
       "Chennai Super Kings            76\n",
       "Kolkata Knight Riders          67\n",
       "Royal Challengers Bangalore    67\n",
       "Delhi Daredevils               61\n",
       "Rajasthan Royals               54\n",
       "Sunrisers Hyderabad            44\n",
       "Deccan Chargers                43\n",
       "Pune Warriors                  20\n",
       "Gujarat Lions                  14\n",
       "Rising Pune Supergiant          8\n",
       "Kochi Tuskers Kerala            7\n",
       "Rising Pune Supergiants         7\n",
       "Name: team1, dtype: int64"
      ]
     },
     "execution_count": 23,
     "metadata": {},
     "output_type": "execute_result"
    }
   ],
   "source": [
    "x_matches['team1'].value_counts()"
   ]
  },
  {
   "cell_type": "code",
   "execution_count": 24,
   "id": "bf5f85f9",
   "metadata": {},
   "outputs": [],
   "source": [
    "x_matches['team1'].replace({\"Rising Pune Supergiant\":\"Rising Pune Supergiants\"},inplace = True)\n",
    "x_matches['team2'].replace({\"Rising Pune Supergiant\":\"Rising Pune Supergiants\"},inplace = True)\n",
    "\n",
    "x_matches['winner'].replace({\"Rising Pune Supergiant\":\"Rising Pune Supergiants\"},inplace = True)\n",
    "x_matches['toss_winner'].replace({\"Rising Pune Supergiant\":\"Rising Pune Supergiants\"},inplace = True)\n",
    "\n",
    "x_deliveries['batting_team'].replace({\"Rising Pune Supergiant\":\"Rising Pune Supergiants\"},inplace = True)\n",
    "x_deliveries['bowling_team'].replace({\"Rising Pune Supergiant\":\"Rising Pune Supergiants\"},inplace = True)"
   ]
  },
  {
   "cell_type": "code",
   "execution_count": 25,
   "id": "a9ced7f9",
   "metadata": {},
   "outputs": [],
   "source": [
    "x_matches['winner'].fillna('no result', inplace=True)\n",
    "x_matches['player_of_match'].fillna('no result', inplace=True)\n",
    "\n",
    "x_matches['city'].fillna('Dubai', inplace=True)\n",
    "\n",
    "x_matches['umpire1'].fillna('missing', inplace=True)\n",
    "x_matches['umpire2'].fillna('missing', inplace=True)"
   ]
  },
  {
   "cell_type": "code",
   "execution_count": 26,
   "id": "c80df921",
   "metadata": {},
   "outputs": [],
   "source": [
    "x_matches['venue']=x_matches['venue'].astype('str').apply(lambda x:x.replace(',',''))"
   ]
  },
  {
   "cell_type": "code",
   "execution_count": 27,
   "id": "eb49ea9c",
   "metadata": {},
   "outputs": [],
   "source": [
    "x_matches.to_csv('x_matches.csv', index = None)"
   ]
  },
  {
   "cell_type": "code",
   "execution_count": 28,
   "id": "9456fd20",
   "metadata": {},
   "outputs": [
    {
     "data": {
      "text/plain": [
       "match_id                 0\n",
       "inning                   0\n",
       "batting_team             0\n",
       "bowling_team             0\n",
       "over                     0\n",
       "ball                     0\n",
       "batsman                  0\n",
       "non_striker              0\n",
       "bowler                   0\n",
       "is_super_over            0\n",
       "wide_runs                0\n",
       "bye_runs                 0\n",
       "legbye_runs              0\n",
       "noball_runs              0\n",
       "penalty_runs             0\n",
       "batsman_runs             0\n",
       "extra_runs               0\n",
       "total_runs               0\n",
       "player_dismissed    143022\n",
       "dismissal_kind      143022\n",
       "fielder             145091\n",
       "dtype: int64"
      ]
     },
     "execution_count": 28,
     "metadata": {},
     "output_type": "execute_result"
    }
   ],
   "source": [
    "x_deliveries.isnull().sum()"
   ]
  },
  {
   "cell_type": "code",
   "execution_count": 29,
   "id": "39b56475",
   "metadata": {},
   "outputs": [
    {
     "data": {
      "text/plain": [
       "id                 0\n",
       "season             0\n",
       "city               0\n",
       "date               0\n",
       "team1              0\n",
       "team2              0\n",
       "toss_winner        0\n",
       "toss_decision      0\n",
       "result             0\n",
       "dl_applied         0\n",
       "winner             0\n",
       "win_by_runs        0\n",
       "win_by_wickets     0\n",
       "player_of_match    0\n",
       "venue              0\n",
       "umpire1            0\n",
       "umpire2            0\n",
       "dtype: int64"
      ]
     },
     "execution_count": 29,
     "metadata": {},
     "output_type": "execute_result"
    }
   ],
   "source": [
    "x_matches.isnull().sum()"
   ]
  },
  {
   "cell_type": "code",
   "execution_count": 30,
   "id": "5ef7f022",
   "metadata": {},
   "outputs": [],
   "source": [
    "x_deliveries['player_dismissed'].fillna('not out', inplace=True)\n",
    "x_deliveries['dismissal_kind'].fillna('not out', inplace=True)\n",
    "\n",
    "x_deliveries[(x_deliveries['dismissal_kind'] != 'not out') & (x_deliveries['fielder'].isna() == False)]['dismissal_kind'].unique()\n",
    "\n",
    "x_deliveries['fielder'].fillna('na', inplace=True)"
   ]
  },
  {
   "cell_type": "code",
   "execution_count": 31,
   "id": "c63b64bf",
   "metadata": {},
   "outputs": [
    {
     "data": {
      "text/plain": [
       "match_id            0\n",
       "inning              0\n",
       "batting_team        0\n",
       "bowling_team        0\n",
       "over                0\n",
       "ball                0\n",
       "batsman             0\n",
       "non_striker         0\n",
       "bowler              0\n",
       "is_super_over       0\n",
       "wide_runs           0\n",
       "bye_runs            0\n",
       "legbye_runs         0\n",
       "noball_runs         0\n",
       "penalty_runs        0\n",
       "batsman_runs        0\n",
       "extra_runs          0\n",
       "total_runs          0\n",
       "player_dismissed    0\n",
       "dismissal_kind      0\n",
       "fielder             0\n",
       "dtype: int64"
      ]
     },
     "execution_count": 31,
     "metadata": {},
     "output_type": "execute_result"
    }
   ],
   "source": [
    "x_deliveries.isnull().sum()"
   ]
  },
  {
   "cell_type": "code",
   "execution_count": 32,
   "id": "44b1d6eb",
   "metadata": {},
   "outputs": [],
   "source": [
    "x_deliveries.to_csv('x_deliveries.csv', index = None)"
   ]
  },
  {
   "cell_type": "code",
   "execution_count": 33,
   "id": "d164a952",
   "metadata": {},
   "outputs": [
    {
     "data": {
      "text/plain": [
       "<AxesSubplot:>"
      ]
     },
     "execution_count": 33,
     "metadata": {},
     "output_type": "execute_result"
    },
    {
     "data": {
      "image/png": "[encoded data removed]",
      "text/plain": [
       "<Figure size 720x576 with 1 Axes>"
      ]
     },
     "metadata": {
      "needs_background": "light"
     },
     "output_type": "display_data"
    }
   ],
   "source": [
    "df_matches['team1'].value_counts().plot(kind='bar',figsize=(10,8))"
   ]
  },
  {
   "cell_type": "code",
   "execution_count": 34,
   "id": "ec306acc",
   "metadata": {},
   "outputs": [
    {
     "data": {
      "text/plain": [
       "Delhi Daredevils               81\n",
       "Kolkata Knight Riders          80\n",
       "Royal Challengers Bangalore    80\n",
       "Mumbai Indians                 74\n",
       "Kings XI Punjab                70\n",
       "Rajasthan Royals               62\n",
       "Chennai Super Kings            53\n",
       "Deccan Chargers                32\n",
       "Sunrisers Hyderabad            30\n",
       "Pune Warriors                  25\n",
       "Gujarat Lions                  16\n",
       "Rising Pune Supergiants        15\n",
       "Kochi Tuskers Kerala            7\n",
       "Name: team2, dtype: int64"
      ]
     },
     "execution_count": 34,
     "metadata": {},
     "output_type": "execute_result"
    }
   ],
   "source": [
    "df_matches['team2'].value_counts()"
   ]
  },
  {
   "cell_type": "code",
   "execution_count": 35,
   "id": "833d9cfb",
   "metadata": {},
   "outputs": [
    {
     "data": {
      "text/plain": [
       "<AxesSubplot:>"
      ]
     },
     "execution_count": 35,
     "metadata": {},
     "output_type": "execute_result"
    },
    {
     "data": {
      "image/png": "[encoded data removed]",
      "text/plain": [
       "<Figure size 720x576 with 1 Axes>"
      ]
     },
     "metadata": {
      "needs_background": "light"
     },
     "output_type": "display_data"
    }
   ],
   "source": [
    "df_matches['team2'].value_counts().plot(kind='bar',figsize=(10,8))"
   ]
  },
  {
   "cell_type": "code",
   "execution_count": 36,
   "id": "de063289",
   "metadata": {
    "scrolled": false
   },
   "outputs": [
    {
     "data": {
      "text/plain": [
       "<AxesSubplot:>"
      ]
     },
     "execution_count": 36,
     "metadata": {},
     "output_type": "execute_result"
    },
    {
     "data": {
      "image/png": "[encoded data removed]",
      "text/plain": [
       "<Figure size 864x720 with 2 Axes>"
      ]
     },
     "metadata": {
      "needs_background": "light"
     },
     "output_type": "display_data"
    }
   ],
   "source": [
    "correlation_matrix = df_matches.corr().round(2)\n",
    "plt.figure(figsize=(12,10))\n",
    "sns.heatmap(data=correlation_matrix, annot=True)"
   ]
  },
  {
   "cell_type": "code",
   "execution_count": 37,
   "id": "3b8620ab",
   "metadata": {},
   "outputs": [
    {
     "data": {
      "text/plain": [
       "<AxesSubplot:>"
      ]
     },
     "execution_count": 37,
     "metadata": {},
     "output_type": "execute_result"
    },
    {
     "data": {
      "image/png": "[encoded data removed]",
      "text/plain": [
       "<Figure size 864x720 with 2 Axes>"
      ]
     },
     "metadata": {
      "needs_background": "light"
     },
     "output_type": "display_data"
    }
   ],
   "source": [
    "correlation_matrix = df_deliveries.corr().round(2)\n",
    "plt.figure(figsize=(12,10))\n",
    "sns.heatmap(data=correlation_matrix, annot=True)"
   ]
  },
  {
   "cell_type": "code",
   "execution_count": 38,
   "id": "b782c44c",
   "metadata": {},
   "outputs": [
    {
     "data": {
      "text/plain": [
       "M Chinnaswamy Stadium                                  63\n",
       "Eden Gardens                                           61\n",
       "Feroz Shah Kotla                                       59\n",
       "Wankhede Stadium                                       57\n",
       "Rajiv Gandhi International Stadium Uppal               49\n",
       "MA Chidambaram Stadium Chepauk                         48\n",
       "Punjab Cricket Association Stadium Mohali              35\n",
       "Sawai Mansingh Stadium                                 33\n",
       "Dr DY Patil Sports Academy                             17\n",
       "Subrata Roy Sahara Stadium                             17\n",
       "Kingsmead                                              15\n",
       "Maharashtra Cricket Association Stadium                15\n",
       "SuperSport Park                                        12\n",
       "Sardar Patel Stadium Motera                            12\n",
       "Dr. Y.S. Rajasekhara Reddy ACA-VDCA Cricket Stadium    11\n",
       "Brabourne Stadium                                      11\n",
       "Punjab Cricket Association IS Bindra Stadium Mohali    11\n",
       "Saurashtra Cricket Association Stadium                 10\n",
       "Himachal Pradesh Cricket Association Stadium            9\n",
       "New Wanderers Stadium                                   8\n",
       "Sheikh Zayed Stadium                                    7\n",
       "Newlands                                                7\n",
       "JSCA International Stadium Complex                      7\n",
       "Barabati Stadium                                        7\n",
       "St George's Park                                        7\n",
       "Sharjah Cricket Stadium                                 6\n",
       "Shaheed Veer Narayan Singh International Stadium        6\n",
       "Nehru Stadium                                           5\n",
       "Holkar Cricket Stadium                                  5\n",
       "Green Park                                              4\n",
       "De Beers Diamond Oval                                   3\n",
       "Buffalo Park                                            3\n",
       "Vidarbha Cricket Association Stadium Jamtha             3\n",
       "OUTsurance Oval                                         2\n",
       "Name: venue, dtype: int64"
      ]
     },
     "execution_count": 38,
     "metadata": {},
     "output_type": "execute_result"
    }
   ],
   "source": [
    "df_matches['venue'].value_counts()"
   ]
  },
  {
   "cell_type": "code",
   "execution_count": 39,
   "id": "221813ec",
   "metadata": {},
   "outputs": [
    {
     "data": {
      "text/plain": [
       "<AxesSubplot:>"
      ]
     },
     "execution_count": 39,
     "metadata": {},
     "output_type": "execute_result"
    },
    {
     "data": {
      "image/png": "[encoded data removed]",
      "text/plain": [
       "<Figure size 720x576 with 1 Axes>"
      ]
     },
     "metadata": {
      "needs_background": "light"
     },
     "output_type": "display_data"
    }
   ],
   "source": [
    "df_matches['venue'].value_counts().plot(kind='bar',figsize=(10,8))"
   ]
  },
  {
   "cell_type": "markdown",
   "id": "0a5eb171",
   "metadata": {},
   "source": [
    "### Matches Played per Season"
   ]
  },
  {
   "cell_type": "code",
   "execution_count": 40,
   "id": "30139bdf",
   "metadata": {},
   "outputs": [
    {
     "data": {
      "text/plain": [
       "<AxesSubplot:>"
      ]
     },
     "execution_count": 40,
     "metadata": {},
     "output_type": "execute_result"
    },
    {
     "data": {
      "image/png": "[encoded data removed]",
      "text/plain": [
       "<Figure size 720x576 with 1 Axes>"
      ]
     },
     "metadata": {
      "needs_background": "light"
     },
     "output_type": "display_data"
    }
   ],
   "source": [
    "df_matches.season.value_counts().plot(kind=\"bar\",figsize=(10,8))"
   ]
  },
  {
   "cell_type": "markdown",
   "id": "ada1510f",
   "metadata": {},
   "source": [
    "### Most Number of Matches Won by a Team"
   ]
  },
  {
   "cell_type": "code",
   "execution_count": 41,
   "id": "f37c95c1",
   "metadata": {},
   "outputs": [
    {
     "name": "stdout",
     "output_type": "stream",
     "text": [
      "Mumbai Indians                 92\n",
      "Kolkata Knight Riders          77\n",
      "Chennai Super Kings            77\n",
      "Royal Challengers Bangalore    71\n",
      "Kings XI Punjab                69\n",
      "Rajasthan Royals               63\n",
      "Delhi Daredevils               61\n",
      "Sunrisers Hyderabad            40\n",
      "Deccan Chargers                29\n",
      "Rising Pune Supergiants        15\n",
      "Gujarat Lions                  13\n",
      "Pune Warriors                  12\n",
      "Kochi Tuskers Kerala            6\n",
      "Name: winner, dtype: int64\n"
     ]
    },
    {
     "data": {
      "image/png": "[encoded data removed]",
      "text/plain": [
       "<Figure size 720x576 with 1 Axes>"
      ]
     },
     "metadata": {
      "needs_background": "light"
     },
     "output_type": "display_data"
    }
   ],
   "source": [
    "match_winner = df_matches[\"winner\"].value_counts()\n",
    "match_winner.plot(kind=\"bar\",figsize=(10,8))\n",
    "print(df_matches[\"winner\"].value_counts())"
   ]
  },
  {
   "cell_type": "code",
   "execution_count": 42,
   "id": "86a42232",
   "metadata": {},
   "outputs": [
    {
     "data": {
      "text/plain": [
       "<AxesSubplot:ylabel='winner'>"
      ]
     },
     "execution_count": 42,
     "metadata": {},
     "output_type": "execute_result"
    },
    {
     "data": {
      "image/png": "[encoded data removed]",
      "text/plain": [
       "<Figure size 720x576 with 1 Axes>"
      ]
     },
     "metadata": {},
     "output_type": "display_data"
    }
   ],
   "source": [
    "df_matches.loc[(df_matches[\"team1\"] == \"Kolkata Knight Riders\") & (df_matches[\"team2\"] == \"Mumbai Indians\"), \"winner\"].value_counts().plot(kind=\"pie\",figsize=(10,8))"
   ]
  },
  {
   "cell_type": "code",
   "execution_count": 43,
   "id": "ec1c1b71",
   "metadata": {},
   "outputs": [
    {
     "data": {
      "text/plain": [
       "<AxesSubplot:ylabel='winner'>"
      ]
     },
     "execution_count": 43,
     "metadata": {},
     "output_type": "execute_result"
    },
    {
     "data": {
      "image/png": "[encoded data removed]",
      "text/plain": [
       "<Figure size 720x576 with 1 Axes>"
      ]
     },
     "metadata": {},
     "output_type": "display_data"
    }
   ],
   "source": [
    "df_matches.loc[(df_matches[\"team1\"] == \"Chennai Super Kings\") & (df_matches[\"team2\"] == \"Mumbai Indians\"), \"winner\"].value_counts().plot(kind=\"pie\",figsize=(10,8))"
   ]
  },
  {
   "cell_type": "markdown",
   "id": "30d50180",
   "metadata": {},
   "source": [
    "### Team won most number of matches by margin of 50 or more runs "
   ]
  },
  {
   "cell_type": "code",
   "execution_count": 44,
   "id": "ed37629d",
   "metadata": {},
   "outputs": [
    {
     "data": {
      "text/plain": [
       "<AxesSubplot:>"
      ]
     },
     "execution_count": 44,
     "metadata": {},
     "output_type": "execute_result"
    },
    {
     "data": {
      "image/png": "[encoded data removed]",
      "text/plain": [
       "<Figure size 720x576 with 1 Axes>"
      ]
     },
     "metadata": {
      "needs_background": "light"
     },
     "output_type": "display_data"
    }
   ],
   "source": [
    "df_matches.loc[df_matches.win_by_runs > 50, \"winner\"].value_counts().plot(kind=\"bar\",figsize=(10,8))"
   ]
  },
  {
   "cell_type": "markdown",
   "id": "8d0ab811",
   "metadata": {},
   "source": [
    "### Teams won most number of matches by margin of 5 or more wickets"
   ]
  },
  {
   "cell_type": "code",
   "execution_count": 45,
   "id": "e2680925",
   "metadata": {},
   "outputs": [
    {
     "data": {
      "text/plain": [
       "<AxesSubplot:>"
      ]
     },
     "execution_count": 45,
     "metadata": {},
     "output_type": "execute_result"
    },
    {
     "data": {
      "image/png": "[encoded data removed]",
      "text/plain": [
       "<Figure size 720x576 with 1 Axes>"
      ]
     },
     "metadata": {
      "needs_background": "light"
     },
     "output_type": "display_data"
    }
   ],
   "source": [
    "df_matches.loc[df_matches.win_by_wickets > 5, \"winner\"].value_counts().plot(kind=\"bar\",figsize=(10,8))"
   ]
  },
  {
   "cell_type": "markdown",
   "id": "ce30f1c4",
   "metadata": {},
   "source": [
    "### After winning the toss, Teams Decide whether to Bat or Field"
   ]
  },
  {
   "cell_type": "code",
   "execution_count": 46,
   "id": "1da9fec5",
   "metadata": {},
   "outputs": [
    {
     "data": {
      "image/png": "[encoded data removed]",
      "text/plain": [
       "<Figure size 432x288 with 1 Axes>"
      ]
     },
     "metadata": {},
     "output_type": "display_data"
    }
   ],
   "source": [
    "toss = df_matches.toss_decision.value_counts()\n",
    "labels = (np.array(toss.index))\n",
    "sizes = (np.array((toss / toss.sum())*100))\n",
    "colors = ['skyblue', 'orange']\n",
    "plt.pie(sizes, labels=labels, colors=colors,\n",
    "        autopct='%1.1f%%', shadow=True, startangle=90)\n",
    "plt.title(\"Toss decision percentage\")\n",
    "plt.show()"
   ]
  },
  {
   "cell_type": "markdown",
   "id": "970aefee",
   "metadata": {},
   "source": [
    "### Toss Decision Season wise "
   ]
  },
  {
   "cell_type": "code",
   "execution_count": 47,
   "id": "7d854e7a",
   "metadata": {},
   "outputs": [
    {
     "data": {
      "image/png": "[encoded data removed]",
      "text/plain": [
       "<Figure size 864x432 with 1 Axes>"
      ]
     },
     "metadata": {
      "needs_background": "light"
     },
     "output_type": "display_data"
    }
   ],
   "source": [
    "plt.figure(figsize=(12,6))\n",
    "sns.countplot(x='season', hue='toss_decision', data=df_matches)\n",
    "plt.xticks(rotation='vertical')\n",
    "plt.show()"
   ]
  },
  {
   "cell_type": "markdown",
   "id": "3dfe2ed9",
   "metadata": {},
   "source": [
    "### Teams won Matches by winning the Toss"
   ]
  },
  {
   "cell_type": "code",
   "execution_count": 48,
   "id": "f2afeeca",
   "metadata": {},
   "outputs": [
    {
     "name": "stdout",
     "output_type": "stream",
     "text": [
      "Mumbai Indians                 48\n",
      "Kolkata Knight Riders          44\n",
      "Chennai Super Kings            42\n",
      "Rajasthan Royals               34\n",
      "Delhi Daredevils               33\n",
      "Royal Challengers Bangalore    33\n",
      "Kings XI Punjab                27\n",
      "Deccan Chargers                19\n",
      "Sunrisers Hyderabad            16\n",
      "Gujarat Lions                  10\n",
      "Rising Pune Supergiants         8\n",
      "Kochi Tuskers Kerala            4\n",
      "Pune Warriors                   3\n",
      "Name: winner, dtype: int64\n"
     ]
    },
    {
     "data": {
      "image/png": "[encoded data removed]",
      "text/plain": [
       "<Figure size 720x576 with 1 Axes>"
      ]
     },
     "metadata": {
      "needs_background": "light"
     },
     "output_type": "display_data"
    }
   ],
   "source": [
    "df_matches.loc[df_matches.toss_winner == df_matches.winner, \"winner\"].value_counts().plot(kind=\"bar\",figsize=(10,8))\n",
    "print(df_matches.loc[df_matches.toss_winner == df_matches.winner, \"winner\"].value_counts())"
   ]
  },
  {
   "cell_type": "markdown",
   "id": "3902cb53",
   "metadata": {},
   "source": [
    "### Win Percentage of Teams Batting second"
   ]
  },
  {
   "cell_type": "code",
   "execution_count": 49,
   "id": "e04248a0",
   "metadata": {},
   "outputs": [
    {
     "data": {
      "image/png": "[encoded data removed]",
      "text/plain": [
       "<Figure size 432x288 with 1 Axes>"
      ]
     },
     "metadata": {},
     "output_type": "display_data"
    }
   ],
   "source": [
    "num_of_wins = (df_matches.win_by_wickets>0).sum()\n",
    "num_of_loss = (df_matches.win_by_wickets==0).sum()\n",
    "labels = [\"Wins\", \"Loss\"]\n",
    "total = float(num_of_wins + num_of_loss)\n",
    "sizes = [(num_of_wins/total)*100, (num_of_loss/total)*100]\n",
    "colors = ['skyblue', 'orange']\n",
    "plt.pie(sizes, labels=labels, colors=colors,\n",
    "        autopct='%1.1f%%', shadow=True, startangle=90)\n",
    "plt.title(\"Win percentage of team batting second\")\n",
    "plt.show()"
   ]
  },
  {
   "cell_type": "markdown",
   "id": "d9094e55",
   "metadata": {},
   "source": [
    "### Season Wise in Percentage of Team Batting Second "
   ]
  },
  {
   "cell_type": "code",
   "execution_count": 50,
   "id": "e15b4bbb",
   "metadata": {},
   "outputs": [
    {
     "name": "stderr",
     "output_type": "stream",
     "text": [
      "C:\\ProgramData\\Anaconda3\\lib\\site-packages\\pandas\\core\\indexing.py:1637: SettingWithCopyWarning: \n",
      "A value is trying to be set on a copy of a slice from a DataFrame\n",
      "\n",
      "See the caveats in the documentation: https://pandas.pydata.org/pandas-docs/stable/user_guide/indexing.html#returning-a-view-versus-a-copy\n",
      "  self._setitem_single_block(indexer, value, name)\n"
     ]
    },
    {
     "data": {
      "image/png": "[encoded data removed]",
      "text/plain": [
       "<Figure size 864x432 with 1 Axes>"
      ]
     },
     "metadata": {
      "needs_background": "light"
     },
     "output_type": "display_data"
    }
   ],
   "source": [
    "df_matches[\"field_win\"] = \"win\"\n",
    "df_matches[\"field_win\"].loc[df_matches['win_by_wickets']==0] = \"loss\"\n",
    "plt.figure(figsize=(12,6))\n",
    "sns.countplot(x='season', hue='field_win', data=df_matches)\n",
    "plt.xticks(rotation='vertical')\n",
    "plt.show()"
   ]
  },
  {
   "cell_type": "markdown",
   "id": "28f7523d",
   "metadata": {},
   "source": [
    "### Most Player of the Match"
   ]
  },
  {
   "cell_type": "code",
   "execution_count": 51,
   "id": "aaf3be2a",
   "metadata": {},
   "outputs": [
    {
     "name": "stdout",
     "output_type": "stream",
     "text": [
      "CH Gayle          18\n",
      "YK Pathan         16\n",
      "AB de Villiers    15\n",
      "DA Warner         15\n",
      "SK Raina          14\n",
      "RG Sharma         14\n",
      "G Gambhir         13\n",
      "MS Dhoni          13\n",
      "MEK Hussey        12\n",
      "AM Rahane         12\n",
      "Name: player_of_match, dtype: int64\n"
     ]
    },
    {
     "data": {
      "image/png": "[encoded data removed]",
      "text/plain": [
       "<Figure size 720x576 with 1 Axes>"
      ]
     },
     "metadata": {
      "needs_background": "light"
     },
     "output_type": "display_data"
    }
   ],
   "source": [
    "player_of_match = df_matches[\"player_of_match\"].value_counts()[:10]\n",
    "player_of_match.plot(kind=\"bar\",figsize=(10,8))\n",
    "print(df_matches[\"player_of_match\"].value_counts()[:10])"
   ]
  },
  {
   "cell_type": "markdown",
   "id": "f83ad705",
   "metadata": {},
   "source": [
    "### Top 10 Batsmen with Most Score "
   ]
  },
  {
   "cell_type": "code",
   "execution_count": 52,
   "id": "3b0ee7d8",
   "metadata": {},
   "outputs": [
    {
     "data": {
      "text/plain": [
       "Text(0.5, 1.0, 'Top 10 Batsman with score')"
      ]
     },
     "execution_count": 52,
     "metadata": {},
     "output_type": "execute_result"
    },
    {
     "data": {
      "image/png": "[encoded data removed]",
      "text/plain": [
       "<Figure size 720x576 with 1 Axes>"
      ]
     },
     "metadata": {
      "needs_background": "light"
     },
     "output_type": "display_data"
    }
   ],
   "source": [
    "top_10_batsman = df_deliveries.groupby('non_striker')['total_runs'].count().sort_values(ascending=False)[1:11]\n",
    "top_10_batsman.plot(kind='bar',figsize=(10,8))\n",
    "plt.title(\"Top 10 Batsman with score\")"
   ]
  },
  {
   "cell_type": "markdown",
   "id": "029e91e3",
   "metadata": {},
   "source": [
    "### Best Umpires"
   ]
  },
  {
   "cell_type": "code",
   "execution_count": 53,
   "id": "64b1bdd4",
   "metadata": {},
   "outputs": [
    {
     "name": "stdout",
     "output_type": "stream",
     "text": [
      "Total number of umpires: 89\n"
     ]
    },
    {
     "data": {
      "text/plain": [
       "Text(0.5, 1.0, 'Top 10 common umpires')"
      ]
     },
     "execution_count": 53,
     "metadata": {},
     "output_type": "execute_result"
    },
    {
     "data": {
      "image/png": "[encoded data removed]",
      "text/plain": [
       "<Figure size 720x576 with 1 Axes>"
      ]
     },
     "metadata": {
      "needs_background": "light"
     },
     "output_type": "display_data"
    }
   ],
   "source": [
    "umpire1 = df_matches.groupby('umpire1')['umpire1'].count().sort_values(ascending=False)\n",
    "umpire2 = df_matches.groupby('umpire2')['umpire2'].count().sort_values(ascending=False)\n",
    "umpire = umpire1.add(umpire2, fill_value=0)\n",
    "print(\"Total number of umpires: {}\".format(umpire.shape[0]))\n",
    "umpire = umpire.sort_values(ascending=False)[0:10]\n",
    "umpire.plot(kind='bar',figsize=(10,8))\n",
    "plt.title(\"Top 10 common umpires\")"
   ]
  },
  {
   "cell_type": "markdown",
   "id": "61d6bb2b",
   "metadata": {},
   "source": [
    "### Most Extras by Bowlers "
   ]
  },
  {
   "cell_type": "code",
   "execution_count": 54,
   "id": "e2df453f",
   "metadata": {},
   "outputs": [
    {
     "data": {
      "text/plain": [
       "<AxesSubplot:title={'center':'Extra Runs'}, xlabel='bowler'>"
      ]
     },
     "execution_count": 54,
     "metadata": {},
     "output_type": "execute_result"
    },
    {
     "data": {
      "image/png": "[encoded data removed]",
      "text/plain": [
       "<Figure size 720x360 with 1 Axes>"
      ]
     },
     "metadata": {
      "needs_background": "light"
     },
     "output_type": "display_data"
    }
   ],
   "source": [
    "plt.figure(figsize=(10,5))\n",
    "df_deliveries.groupby(by='bowler').sum().sort_values('extra_runs',ascending=False).extra_runs.head(10).plot(kind='bar',title='Extra Runs')"
   ]
  },
  {
   "cell_type": "markdown",
   "id": "4f6b0558",
   "metadata": {},
   "source": [
    "### Most Sixes by Players "
   ]
  },
  {
   "cell_type": "code",
   "execution_count": 55,
   "id": "c55a481f",
   "metadata": {},
   "outputs": [
    {
     "data": {
      "text/plain": [
       "<AxesSubplot:title={'center':'Sixes by Player'}>"
      ]
     },
     "execution_count": 55,
     "metadata": {},
     "output_type": "execute_result"
    },
    {
     "data": {
      "image/png": "[encoded data removed]",
      "text/plain": [
       "<Figure size 720x360 with 1 Axes>"
      ]
     },
     "metadata": {
      "needs_background": "light"
     },
     "output_type": "display_data"
    }
   ],
   "source": [
    "plt.figure(figsize=(10,5))\n",
    "df_deliveries[df_deliveries['batsman_runs']==6]['batsman'].value_counts().head(10).plot(kind='bar',title='Sixes by Player')"
   ]
  },
  {
   "cell_type": "markdown",
   "id": "81bcae7a",
   "metadata": {},
   "source": [
    "### Most Sixes by Teams"
   ]
  },
  {
   "cell_type": "code",
   "execution_count": 56,
   "id": "5688c80b",
   "metadata": {},
   "outputs": [
    {
     "data": {
      "text/plain": [
       "<AxesSubplot:title={'center':'Sixes by Team'}>"
      ]
     },
     "execution_count": 56,
     "metadata": {},
     "output_type": "execute_result"
    },
    {
     "data": {
      "image/png": "[encoded data removed]",
      "text/plain": [
       "<Figure size 720x360 with 1 Axes>"
      ]
     },
     "metadata": {
      "needs_background": "light"
     },
     "output_type": "display_data"
    }
   ],
   "source": [
    "plt.figure(figsize=(10,5))\n",
    "df_deliveries[df_deliveries['batsman_runs']==6]['batting_team'].value_counts().head(10).plot(kind='bar',title='Sixes by Team')"
   ]
  },
  {
   "cell_type": "markdown",
   "id": "d9136c56",
   "metadata": {},
   "source": [
    "### Most Fours by Players"
   ]
  },
  {
   "cell_type": "code",
   "execution_count": 57,
   "id": "4bc106ba",
   "metadata": {},
   "outputs": [
    {
     "data": {
      "text/plain": [
       "<AxesSubplot:title={'center':'Fours by Player'}>"
      ]
     },
     "execution_count": 57,
     "metadata": {},
     "output_type": "execute_result"
    },
    {
     "data": {
      "image/png": "[encoded data removed]",
      "text/plain": [
       "<Figure size 720x360 with 1 Axes>"
      ]
     },
     "metadata": {
      "needs_background": "light"
     },
     "output_type": "display_data"
    }
   ],
   "source": [
    "plt.figure(figsize=(10,5))\n",
    "df_deliveries[df_deliveries['batsman_runs']==4]['batsman'].value_counts().head(10).plot(kind='bar',title='Fours by Player')"
   ]
  },
  {
   "cell_type": "markdown",
   "id": "a8d1a700",
   "metadata": {},
   "source": [
    "### Most Fours by Teams "
   ]
  },
  {
   "cell_type": "code",
   "execution_count": 58,
   "id": "8de64e45",
   "metadata": {},
   "outputs": [
    {
     "data": {
      "text/plain": [
       "<AxesSubplot:title={'center':'Fours by Team'}>"
      ]
     },
     "execution_count": 58,
     "metadata": {},
     "output_type": "execute_result"
    },
    {
     "data": {
      "image/png": "[encoded data removed]",
      "text/plain": [
       "<Figure size 720x360 with 1 Axes>"
      ]
     },
     "metadata": {
      "needs_background": "light"
     },
     "output_type": "display_data"
    }
   ],
   "source": [
    "plt.figure(figsize=(10,5))\n",
    "df_deliveries[df_deliveries['batsman_runs']==4]['batting_team'].value_counts().head(10).plot(kind='bar',title='Fours by Team')"
   ]
  },
  {
   "cell_type": "markdown",
   "id": "4c563ac7",
   "metadata": {},
   "source": [
    "### Most Ducks by Players"
   ]
  },
  {
   "cell_type": "code",
   "execution_count": 59,
   "id": "d1a90c3e",
   "metadata": {},
   "outputs": [
    {
     "data": {
      "text/plain": [
       "<AxesSubplot:title={'center':'Ducks by Player'}>"
      ]
     },
     "execution_count": 59,
     "metadata": {},
     "output_type": "execute_result"
    },
    {
     "data": {
      "image/png": "[encoded data removed]",
      "text/plain": [
       "<Figure size 720x360 with 1 Axes>"
      ]
     },
     "metadata": {
      "needs_background": "light"
     },
     "output_type": "display_data"
    }
   ],
   "source": [
    "plt.figure(figsize=(10,5))\n",
    "df_deliveries[df_deliveries['batsman_runs']==0]['batsman'].value_counts().head(10).plot(kind='bar',title='Ducks by Player')"
   ]
  },
  {
   "cell_type": "markdown",
   "id": "32e2c91b",
   "metadata": {},
   "source": [
    "### Most Dismissal Type "
   ]
  },
  {
   "cell_type": "code",
   "execution_count": 60,
   "id": "243bf829",
   "metadata": {},
   "outputs": [
    {
     "name": "stderr",
     "output_type": "stream",
     "text": [
      "C:\\ProgramData\\Anaconda3\\lib\\site-packages\\seaborn\\_decorators.py:36: FutureWarning: Pass the following variable as a keyword arg: x. From version 0.12, the only valid positional argument will be `data`, and passing other arguments without an explicit keyword will result in an error or misinterpretation.\n",
      "  warnings.warn(\n"
     ]
    },
    {
     "data": {
      "image/png": "[encoded data removed]",
      "text/plain": [
       "<Figure size 720x360 with 1 Axes>"
      ]
     },
     "metadata": {
      "needs_background": "light"
     },
     "output_type": "display_data"
    }
   ],
   "source": [
    "plt.figure(figsize=(10,5))\n",
    "sns.countplot(df_deliveries.dismissal_kind)\n",
    "plt.xticks(rotation='vertical')\n",
    "plt.title('Dismissal Type')\n",
    "plt.show()"
   ]
  },
  {
   "cell_type": "code",
   "execution_count": 61,
   "id": "04e7f7de",
   "metadata": {},
   "outputs": [
    {
     "name": "stdout",
     "output_type": "stream",
     "text": [
      "<class 'pandas.core.frame.DataFrame'>\n",
      "RangeIndex: 150461 entries, 0 to 150460\n",
      "Data columns (total 21 columns):\n",
      " #   Column            Non-Null Count   Dtype \n",
      "---  ------            --------------   ----- \n",
      " 0   match_id          150461 non-null  int64 \n",
      " 1   inning            150461 non-null  int64 \n",
      " 2   batting_team      150461 non-null  object\n",
      " 3   bowling_team      150461 non-null  object\n",
      " 4   over              150461 non-null  int64 \n",
      " 5   ball              150461 non-null  int64 \n",
      " 6   batsman           150461 non-null  object\n",
      " 7   non_striker       150461 non-null  object\n",
      " 8   bowler            150461 non-null  object\n",
      " 9   is_super_over     150461 non-null  int64 \n",
      " 10  wide_runs         150461 non-null  int64 \n",
      " 11  bye_runs          150461 non-null  int64 \n",
      " 12  legbye_runs       150461 non-null  int64 \n",
      " 13  noball_runs       150461 non-null  int64 \n",
      " 14  penalty_runs      150461 non-null  int64 \n",
      " 15  batsman_runs      150461 non-null  int64 \n",
      " 16  extra_runs        150461 non-null  int64 \n",
      " 17  total_runs        150461 non-null  int64 \n",
      " 18  player_dismissed  150461 non-null  object\n",
      " 19  dismissal_kind    150461 non-null  object\n",
      " 20  fielder           150461 non-null  object\n",
      "dtypes: int64(13), object(8)\n",
      "memory usage: 24.1+ MB\n"
     ]
    }
   ],
   "source": [
    "df_deliveries.info()"
   ]
  },
  {
   "cell_type": "code",
   "execution_count": 62,
   "id": "81e43fc3",
   "metadata": {},
   "outputs": [
    {
     "name": "stdout",
     "output_type": "stream",
     "text": [
      "<class 'pandas.core.frame.DataFrame'>\n",
      "RangeIndex: 625 entries, 0 to 624\n",
      "Data columns (total 18 columns):\n",
      " #   Column           Non-Null Count  Dtype \n",
      "---  ------           --------------  ----- \n",
      " 0   id               625 non-null    int64 \n",
      " 1   season           625 non-null    int64 \n",
      " 2   city             625 non-null    object\n",
      " 3   date             625 non-null    object\n",
      " 4   team1            625 non-null    object\n",
      " 5   team2            625 non-null    object\n",
      " 6   toss_winner      625 non-null    object\n",
      " 7   toss_decision    625 non-null    object\n",
      " 8   result           625 non-null    object\n",
      " 9   dl_applied       625 non-null    int64 \n",
      " 10  winner           625 non-null    object\n",
      " 11  win_by_runs      625 non-null    int64 \n",
      " 12  win_by_wickets   625 non-null    int64 \n",
      " 13  player_of_match  625 non-null    object\n",
      " 14  venue            625 non-null    object\n",
      " 15  umpire1          625 non-null    object\n",
      " 16  umpire2          625 non-null    object\n",
      " 17  field_win        625 non-null    object\n",
      "dtypes: int64(5), object(13)\n",
      "memory usage: 88.0+ KB\n"
     ]
    }
   ],
   "source": [
    "df_matches.info()"
   ]
  },
  {
   "cell_type": "code",
   "execution_count": 63,
   "id": "a68c0dce",
   "metadata": {},
   "outputs": [],
   "source": [
    "x = df_matches.drop(['id', 'date', 'result', 'dl_applied', 'win_by_runs', 'win_by_wickets', 'player_of_match', 'venue','umpire1', 'umpire2', 'field_win'], axis = 1)"
   ]
  },
  {
   "cell_type": "code",
   "execution_count": 64,
   "id": "b09a1849",
   "metadata": {},
   "outputs": [],
   "source": [
    "from sklearn import preprocessing\n",
    "le = preprocessing.LabelEncoder()"
   ]
  },
  {
   "cell_type": "code",
   "execution_count": 65,
   "id": "820b4749",
   "metadata": {},
   "outputs": [],
   "source": [
    "x['city'] = le.fit_transform(x['city'])\n",
    "x['toss_decision'] = le.fit_transform(x['toss_decision'])"
   ]
  },
  {
   "cell_type": "code",
   "execution_count": 66,
   "id": "e298ae5a",
   "metadata": {},
   "outputs": [
    {
     "data": {
      "text/plain": [
       "Mumbai Indians                 80\n",
       "Kings XI Punjab                77\n",
       "Chennai Super Kings            76\n",
       "Kolkata Knight Riders          67\n",
       "Royal Challengers Bangalore    67\n",
       "Delhi Daredevils               61\n",
       "Rajasthan Royals               54\n",
       "Sunrisers Hyderabad            44\n",
       "Deccan Chargers                43\n",
       "Pune Warriors                  20\n",
       "Rising Pune Supergiants        15\n",
       "Gujarat Lions                  14\n",
       "Kochi Tuskers Kerala            7\n",
       "Name: team1, dtype: int64"
      ]
     },
     "execution_count": 66,
     "metadata": {},
     "output_type": "execute_result"
    }
   ],
   "source": [
    "x.team1.value_counts()"
   ]
  },
  {
   "cell_type": "code",
   "execution_count": 67,
   "id": "c5a12203",
   "metadata": {},
   "outputs": [],
   "source": [
    "team = {\"Mumbai Indians\": 0, \"Chennai Super Kings\": 1, \"Kings XI Punjab\":2, \"Royal Challengers Bangalore\" : 3,\n",
    "\"Kolkata Knight Riders\" : 4,\"Delhi Daredevils\" : 5,\"Rajasthan Royals\" : 6,\"Sunrisers Hyderabad\" :\n",
    "7,\"Deccan Chargers\" : 8,\n",
    "\"Pune Warriors\" : 9,\"Gujarat Lions\" : 10,\"Rising Pune Supergiant\" : 11, \"Kochi Tuskers Kerala\":\n",
    "12,\n",
    "\"Rising Pune Supergiants\": 13, 'DRAW': 14}"
   ]
  },
  {
   "cell_type": "code",
   "execution_count": 68,
   "id": "f5561ab1",
   "metadata": {},
   "outputs": [],
   "source": [
    "for dataset in [x]:\n",
    "    dataset['team1'] = dataset['team1'].map(team)"
   ]
  },
  {
   "cell_type": "code",
   "execution_count": 69,
   "id": "83e05412",
   "metadata": {},
   "outputs": [],
   "source": [
    "for dataset in [x]:\n",
    "    dataset['team2'] = dataset['team2'].map(team)\n",
    "    dataset['toss_winner'] = dataset['toss_winner'].map(team)\n",
    "    dataset['winner'] = dataset['winner'].map(team)"
   ]
  },
  {
   "cell_type": "code",
   "execution_count": 70,
   "id": "5e76dc9c",
   "metadata": {},
   "outputs": [],
   "source": [
    "X = x.drop(['winner','toss_winner','toss_decision'],axis = 1)\n",
    "y = x['winner']"
   ]
  },
  {
   "cell_type": "code",
   "execution_count": 71,
   "id": "3c5bf264",
   "metadata": {},
   "outputs": [],
   "source": [
    "from sklearn.model_selection import train_test_split"
   ]
  },
  {
   "cell_type": "code",
   "execution_count": 72,
   "id": "4af25999",
   "metadata": {},
   "outputs": [],
   "source": [
    "X_train, X_test, y_train, y_test = train_test_split(X, y, test_size=0.3, random_state=42)"
   ]
  },
  {
   "cell_type": "code",
   "execution_count": 73,
   "id": "cdb05863",
   "metadata": {},
   "outputs": [],
   "source": [
    "from sklearn.linear_model import LogisticRegression"
   ]
  },
  {
   "cell_type": "code",
   "execution_count": 74,
   "id": "41ebb68d",
   "metadata": {},
   "outputs": [],
   "source": [
    "logmodel = LogisticRegression()"
   ]
  },
  {
   "cell_type": "code",
   "execution_count": 75,
   "id": "81e618eb",
   "metadata": {},
   "outputs": [
    {
     "name": "stderr",
     "output_type": "stream",
     "text": [
      "C:\\ProgramData\\Anaconda3\\lib\\site-packages\\sklearn\\linear_model\\_logistic.py:763: ConvergenceWarning: lbfgs failed to converge (status=1):\n",
      "STOP: TOTAL NO. of ITERATIONS REACHED LIMIT.\n",
      "\n",
      "Increase the number of iterations (max_iter) or scale the data as shown in:\n",
      "    https://scikit-learn.org/stable/modules/preprocessing.html\n",
      "Please also refer to the documentation for alternative solver options:\n",
      "    https://scikit-learn.org/stable/modules/linear_model.html#logistic-regression\n",
      "  n_iter_i = _check_optimize_result(\n"
     ]
    },
    {
     "data": {
      "text/plain": [
       "LogisticRegression()"
      ]
     },
     "execution_count": 75,
     "metadata": {},
     "output_type": "execute_result"
    }
   ],
   "source": [
    "logmodel.fit(X_train,y_train)"
   ]
  },
  {
   "cell_type": "code",
   "execution_count": 76,
   "id": "e4441561",
   "metadata": {},
   "outputs": [],
   "source": [
    "y_pred= logmodel.predict(X_test)"
   ]
  },
  {
   "cell_type": "code",
   "execution_count": 77,
   "id": "7e3c6bd5",
   "metadata": {},
   "outputs": [
    {
     "name": "stderr",
     "output_type": "stream",
     "text": [
      "C:\\ProgramData\\Anaconda3\\lib\\site-packages\\sklearn\\linear_model\\_logistic.py:763: ConvergenceWarning: lbfgs failed to converge (status=1):\n",
      "STOP: TOTAL NO. of ITERATIONS REACHED LIMIT.\n",
      "\n",
      "Increase the number of iterations (max_iter) or scale the data as shown in:\n",
      "    https://scikit-learn.org/stable/modules/preprocessing.html\n",
      "Please also refer to the documentation for alternative solver options:\n",
      "    https://scikit-learn.org/stable/modules/linear_model.html#logistic-regression\n",
      "  n_iter_i = _check_optimize_result(\n",
      "C:\\ProgramData\\Anaconda3\\lib\\site-packages\\sklearn\\linear_model\\_logistic.py:763: ConvergenceWarning: lbfgs failed to converge (status=1):\n",
      "STOP: TOTAL NO. of ITERATIONS REACHED LIMIT.\n",
      "\n",
      "Increase the number of iterations (max_iter) or scale the data as shown in:\n",
      "    https://scikit-learn.org/stable/modules/preprocessing.html\n",
      "Please also refer to the documentation for alternative solver options:\n",
      "    https://scikit-learn.org/stable/modules/linear_model.html#logistic-regression\n",
      "  n_iter_i = _check_optimize_result(\n",
      "C:\\ProgramData\\Anaconda3\\lib\\site-packages\\sklearn\\linear_model\\_logistic.py:763: ConvergenceWarning: lbfgs failed to converge (status=1):\n",
      "STOP: TOTAL NO. of ITERATIONS REACHED LIMIT.\n",
      "\n",
      "Increase the number of iterations (max_iter) or scale the data as shown in:\n",
      "    https://scikit-learn.org/stable/modules/preprocessing.html\n",
      "Please also refer to the documentation for alternative solver options:\n",
      "    https://scikit-learn.org/stable/modules/linear_model.html#logistic-regression\n",
      "  n_iter_i = _check_optimize_result(\n"
     ]
    },
    {
     "name": "stdout",
     "output_type": "stream",
     "text": [
      "[0.24  0.232 0.24  0.296 0.264]\n"
     ]
    },
    {
     "name": "stderr",
     "output_type": "stream",
     "text": [
      "C:\\ProgramData\\Anaconda3\\lib\\site-packages\\sklearn\\linear_model\\_logistic.py:763: ConvergenceWarning: lbfgs failed to converge (status=1):\n",
      "STOP: TOTAL NO. of ITERATIONS REACHED LIMIT.\n",
      "\n",
      "Increase the number of iterations (max_iter) or scale the data as shown in:\n",
      "    https://scikit-learn.org/stable/modules/preprocessing.html\n",
      "Please also refer to the documentation for alternative solver options:\n",
      "    https://scikit-learn.org/stable/modules/linear_model.html#logistic-regression\n",
      "  n_iter_i = _check_optimize_result(\n",
      "C:\\ProgramData\\Anaconda3\\lib\\site-packages\\sklearn\\linear_model\\_logistic.py:763: ConvergenceWarning: lbfgs failed to converge (status=1):\n",
      "STOP: TOTAL NO. of ITERATIONS REACHED LIMIT.\n",
      "\n",
      "Increase the number of iterations (max_iter) or scale the data as shown in:\n",
      "    https://scikit-learn.org/stable/modules/preprocessing.html\n",
      "Please also refer to the documentation for alternative solver options:\n",
      "    https://scikit-learn.org/stable/modules/linear_model.html#logistic-regression\n",
      "  n_iter_i = _check_optimize_result(\n"
     ]
    }
   ],
   "source": [
    "from sklearn.model_selection import cross_val_score\n",
    "scores=cross_val_score(logmodel,X,y)\n",
    "print(scores)"
   ]
  },
  {
   "cell_type": "code",
   "execution_count": 78,
   "id": "a3e08811",
   "metadata": {},
   "outputs": [
    {
     "data": {
      "text/plain": [
       "0.22872340425531915"
      ]
     },
     "execution_count": 78,
     "metadata": {},
     "output_type": "execute_result"
    }
   ],
   "source": [
    "from sklearn.metrics import accuracy_score\n",
    "accuracy_score(y_test,y_pred)"
   ]
  },
  {
   "cell_type": "code",
   "execution_count": 79,
   "id": "71f0aaaf",
   "metadata": {},
   "outputs": [],
   "source": [
    "from sklearn.metrics import classification_report"
   ]
  },
  {
   "cell_type": "code",
   "execution_count": 80,
   "id": "0474f247",
   "metadata": {},
   "outputs": [
    {
     "name": "stdout",
     "output_type": "stream",
     "text": [
      "              precision    recall  f1-score   support\n",
      "\n",
      "           0       0.30      0.62      0.40        21\n",
      "           1       0.24      0.43      0.31        21\n",
      "           2       0.06      0.05      0.05        21\n",
      "           3       0.50      0.17      0.25        30\n",
      "           4       0.21      0.25      0.23        24\n",
      "           5       0.00      0.00      0.00        15\n",
      "           6       0.21      0.30      0.25        20\n",
      "           7       0.50      0.18      0.27        11\n",
      "           8       0.00      0.00      0.00        10\n",
      "           9       0.00      0.00      0.00         5\n",
      "          10       0.00      0.00      0.00         4\n",
      "          12       0.00      0.00      0.00         3\n",
      "          13       0.11      0.33      0.17         3\n",
      "\n",
      "    accuracy                           0.23       188\n",
      "   macro avg       0.16      0.18      0.15       188\n",
      "weighted avg       0.23      0.23      0.20       188\n",
      "\n"
     ]
    },
    {
     "name": "stderr",
     "output_type": "stream",
     "text": [
      "C:\\ProgramData\\Anaconda3\\lib\\site-packages\\sklearn\\metrics\\_classification.py:1245: UndefinedMetricWarning: Precision and F-score are ill-defined and being set to 0.0 in labels with no predicted samples. Use `zero_division` parameter to control this behavior.\n",
      "  _warn_prf(average, modifier, msg_start, len(result))\n",
      "C:\\ProgramData\\Anaconda3\\lib\\site-packages\\sklearn\\metrics\\_classification.py:1245: UndefinedMetricWarning: Precision and F-score are ill-defined and being set to 0.0 in labels with no predicted samples. Use `zero_division` parameter to control this behavior.\n",
      "  _warn_prf(average, modifier, msg_start, len(result))\n",
      "C:\\ProgramData\\Anaconda3\\lib\\site-packages\\sklearn\\metrics\\_classification.py:1245: UndefinedMetricWarning: Precision and F-score are ill-defined and being set to 0.0 in labels with no predicted samples. Use `zero_division` parameter to control this behavior.\n",
      "  _warn_prf(average, modifier, msg_start, len(result))\n"
     ]
    }
   ],
   "source": [
    "print(classification_report(y_test,y_pred))"
   ]
  },
  {
   "cell_type": "code",
   "execution_count": 81,
   "id": "f9e781f1",
   "metadata": {},
   "outputs": [],
   "source": [
    "from sklearn.metrics import confusion_matrix"
   ]
  },
  {
   "cell_type": "code",
   "execution_count": 82,
   "id": "47b3a556",
   "metadata": {},
   "outputs": [],
   "source": [
    "cm = confusion_matrix(y_test,y_pred)"
   ]
  },
  {
   "cell_type": "code",
   "execution_count": 83,
   "id": "9e002305",
   "metadata": {},
   "outputs": [
    {
     "name": "stdout",
     "output_type": "stream",
     "text": [
      "[[13  7  1  0  0  0  0  0  0  0  0  0  0]\n",
      " [ 7  9  4  0  0  1  0  0  0  0  0  0  0]\n",
      " [ 6  9  1  0  2  0  1  0  0  0  0  0  2]\n",
      " [ 5  5  2  5  6  2  4  0  0  0  0  0  1]\n",
      " [ 9  2  0  1  6  2  2  1  0  0  0  0  1]\n",
      " [ 2  4  1  0  2  0  6  0  0  0  0  0  0]\n",
      " [ 0  2  2  2  8  0  6  0  0  0  0  0  0]\n",
      " [ 0  0  3  1  1  2  2  2  0  0  0  0  0]\n",
      " [ 2  0  3  1  1  1  2  0  0  0  0  0  0]\n",
      " [ 0  0  0  0  2  0  2  0  0  0  0  0  1]\n",
      " [ 0  0  0  0  1  0  0  0  0  0  0  0  3]\n",
      " [ 0  0  0  0  0  1  2  0  0  0  0  0  0]\n",
      " [ 0  0  0  0  0  0  1  1  0  0  0  0  1]]\n"
     ]
    }
   ],
   "source": [
    "print(cm)"
   ]
  },
  {
   "cell_type": "code",
   "execution_count": 84,
   "id": "73604cf5",
   "metadata": {},
   "outputs": [],
   "source": [
    "from sklearn import tree"
   ]
  },
  {
   "cell_type": "code",
   "execution_count": 85,
   "id": "070cc637",
   "metadata": {},
   "outputs": [],
   "source": [
    "DT = tree.DecisionTreeClassifier(random_state = 0,class_weight=\"balanced\",\n",
    "    min_weight_fraction_leaf=0.01)\n",
    "DT = DT.fit(X_train,y_train)\n",
    "y_pred = DT.predict(X_test)"
   ]
  },
  {
   "cell_type": "code",
   "execution_count": 86,
   "id": "be437337",
   "metadata": {},
   "outputs": [
    {
     "name": "stdout",
     "output_type": "stream",
     "text": [
      "Decision Tree Accuracy is 0.43\n"
     ]
    }
   ],
   "source": [
    "print (\"Decision Tree Accuracy is %2.2f\" % accuracy_score(y_test, y_pred))"
   ]
  },
  {
   "cell_type": "code",
   "execution_count": 87,
   "id": "8398b3ab",
   "metadata": {},
   "outputs": [
    {
     "name": "stdout",
     "output_type": "stream",
     "text": [
      "Cross Validation Score = 0.44\n"
     ]
    },
    {
     "name": "stderr",
     "output_type": "stream",
     "text": [
      "C:\\ProgramData\\Anaconda3\\lib\\site-packages\\sklearn\\model_selection\\_split.py:666: UserWarning: The least populated class in y has only 6 members, which is less than n_splits=10.\n",
      "  warnings.warn((\"The least populated class in y has only %d\"\n"
     ]
    }
   ],
   "source": [
    "score_DT = cross_val_score(DT, X, y, cv=10).mean()\n",
    "print(\"Cross Validation Score = %2.2f\" % score_DT)"
   ]
  },
  {
   "cell_type": "code",
   "execution_count": 88,
   "id": "91d41486",
   "metadata": {},
   "outputs": [
    {
     "name": "stdout",
     "output_type": "stream",
     "text": [
      "              precision    recall  f1-score   support\n",
      "\n",
      "           0       0.55      0.76      0.64        21\n",
      "           1       0.58      0.90      0.70        21\n",
      "           2       0.00      0.00      0.00        21\n",
      "           3       0.38      0.17      0.23        30\n",
      "           4       0.45      0.42      0.43        24\n",
      "           5       0.18      0.13      0.15        15\n",
      "           6       0.33      0.15      0.21        20\n",
      "           7       0.58      0.64      0.61        11\n",
      "           8       0.35      0.70      0.47        10\n",
      "           9       0.40      0.40      0.40         5\n",
      "          10       0.40      1.00      0.57         4\n",
      "          12       0.50      1.00      0.67         3\n",
      "          13       0.43      1.00      0.60         3\n",
      "\n",
      "    accuracy                           0.43       188\n",
      "   macro avg       0.40      0.56      0.44       188\n",
      "weighted avg       0.38      0.43      0.38       188\n",
      "\n"
     ]
    }
   ],
   "source": [
    "print(classification_report(y_test, y_pred))"
   ]
  },
  {
   "cell_type": "code",
   "execution_count": 89,
   "id": "eba654ca",
   "metadata": {},
   "outputs": [],
   "source": [
    "cm = confusion_matrix(y_test,y_pred)"
   ]
  },
  {
   "cell_type": "code",
   "execution_count": 90,
   "id": "0c050dfc",
   "metadata": {},
   "outputs": [
    {
     "name": "stdout",
     "output_type": "stream",
     "text": [
      "[[16  2  0  1  0  2  0  0  0  0  0  0  0]\n",
      " [ 1 19  0  0  0  0  0  0  1  0  0  0  0]\n",
      " [ 4  4  0  3  2  2  0  0  3  1  2  0  0]\n",
      " [ 2  1  4  5  5  2  0  2  3  0  2  2  2]\n",
      " [ 2  2  0  2 10  2  0  1  3  0  1  0  1]\n",
      " [ 2  2  1  0  1  2  1  2  1  1  1  0  1]\n",
      " [ 1  2  6  0  4  1  3  0  1  1  0  1  0]\n",
      " [ 0  0  0  1  0  0  3  7  0  0  0  0  0]\n",
      " [ 1  1  0  0  0  0  1  0  7  0  0  0  0]\n",
      " [ 0  0  0  1  0  0  1  0  1  2  0  0  0]\n",
      " [ 0  0  0  0  0  0  0  0  0  0  4  0  0]\n",
      " [ 0  0  0  0  0  0  0  0  0  0  0  3  0]\n",
      " [ 0  0  0  0  0  0  0  0  0  0  0  0  3]]\n"
     ]
    }
   ],
   "source": [
    "print(cm)"
   ]
  },
  {
   "cell_type": "code",
   "execution_count": 91,
   "id": "3d5aab75",
   "metadata": {},
   "outputs": [],
   "source": [
    "from sklearn.ensemble import RandomForestRegressor\n",
    "from sklearn.ensemble import RandomForestClassifier,GradientBoostingClassifier"
   ]
  },
  {
   "cell_type": "code",
   "execution_count": 92,
   "id": "36fb0b3c",
   "metadata": {},
   "outputs": [
    {
     "data": {
      "text/plain": [
       "0.30793509178828804"
      ]
     },
     "execution_count": 92,
     "metadata": {},
     "output_type": "execute_result"
    }
   ],
   "source": [
    "random = RandomForestRegressor(n_estimators = 100, random_state = 0) \n",
    "random.fit(X_train , y_train)  \n",
    "random.score(X_test, y_test)"
   ]
  },
  {
   "cell_type": "code",
   "execution_count": 93,
   "id": "2c0bb03a",
   "metadata": {},
   "outputs": [
    {
     "data": {
      "text/plain": [
       "0.12348295360218153"
      ]
     },
     "execution_count": 93,
     "metadata": {},
     "output_type": "execute_result"
    }
   ],
   "source": [
    "from sklearn import ensemble\n",
    "clf = ensemble.GradientBoostingRegressor(n_estimators = 400, max_depth = 5)\n",
    "clf.fit(X_train, y_train)\n",
    "clf.score(X_test, y_test)"
   ]
  },
  {
   "cell_type": "code",
   "execution_count": 94,
   "id": "8515e241",
   "metadata": {},
   "outputs": [],
   "source": [
    "from sklearn.linear_model import LinearRegression"
   ]
  },
  {
   "cell_type": "code",
   "execution_count": 95,
   "id": "35ca9b1f",
   "metadata": {},
   "outputs": [
    {
     "data": {
      "text/plain": [
       "LinearRegression()"
      ]
     },
     "execution_count": 95,
     "metadata": {},
     "output_type": "execute_result"
    }
   ],
   "source": [
    "Coef=LinearRegression()\n",
    "Coef.fit(X_train,y_train)"
   ]
  },
  {
   "cell_type": "code",
   "execution_count": 96,
   "id": "ea4130aa",
   "metadata": {},
   "outputs": [],
   "source": [
    "y_pred = Coef.predict(X_test)"
   ]
  },
  {
   "cell_type": "code",
   "execution_count": 97,
   "id": "64c64851",
   "metadata": {},
   "outputs": [
    {
     "name": "stdout",
     "output_type": "stream",
     "text": [
      "Cross Validation Score = 0.42\n"
     ]
    }
   ],
   "source": [
    "score_LR = cross_val_score(Coef, X, y, cv=10).mean()\n",
    "print(\"Cross Validation Score = %2.2f\" % score_LR)"
   ]
  },
  {
   "cell_type": "code",
   "execution_count": 98,
   "id": "55e21816",
   "metadata": {},
   "outputs": [],
   "source": [
    "from sklearn.metrics import mean_squared_error, r2_score, accuracy_score"
   ]
  },
  {
   "cell_type": "code",
   "execution_count": 99,
   "id": "bed64c5f",
   "metadata": {},
   "outputs": [
    {
     "name": "stdout",
     "output_type": "stream",
     "text": [
      "mse: 5.01\n"
     ]
    }
   ],
   "source": [
    "print('mse: %.2f'% mean_squared_error(y_test,y_pred))"
   ]
  },
  {
   "cell_type": "code",
   "execution_count": 100,
   "id": "bf7b4567",
   "metadata": {},
   "outputs": [
    {
     "name": "stdout",
     "output_type": "stream",
     "text": [
      "vs:0.44\n"
     ]
    }
   ],
   "source": [
    "print('vs:%.2f'%r2_score(y_test,y_pred))"
   ]
  },
  {
   "cell_type": "code",
   "execution_count": 101,
   "id": "831c5f8c",
   "metadata": {},
   "outputs": [
    {
     "name": "stdout",
     "output_type": "stream",
     "text": [
      "MAE :   1.8117137203752538\n",
      "MSE :   5.0110907392777895\n",
      "RMAE :   2.2385465684854067\n"
     ]
    }
   ],
   "source": [
    "from sklearn import metrics\n",
    "print('MAE :',\" \", metrics.mean_absolute_error(y_test,y_pred))\n",
    "print('MSE :',\" \", metrics.mean_squared_error(y_test,y_pred))\n",
    "print('RMAE :',\" \", np.sqrt(metrics.mean_squared_error(y_test,y_pred)))"
   ]
  },
  {
   "cell_type": "code",
   "execution_count": null,
   "id": "a0fbe08d",
   "metadata": {},
   "outputs": [],
   "source": []
  }
 ],
 "metadata": {
  "kernelspec": {
   "display_name": "Python 3",
   "language": "python",
   "name": "python3"
  },
  "language_info": {
   "codemirror_mode": {
    "name": "ipython",
    "version": 3
   },
   "file_extension": ".py",
   "mimetype": "text/x-python",
   "name": "python",
   "nbconvert_exporter": "python",
   "pygments_lexer": "ipython3",
   "version": "3.8.8"
  }
 },
 "nbformat": 4,
 "nbformat_minor": 5
}
